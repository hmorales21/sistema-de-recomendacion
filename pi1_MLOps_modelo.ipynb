{
 "cells": [
  {
   "attachments": {},
   "cell_type": "markdown",
   "metadata": {},
   "source": [
    "<img src=\"./scr/pi1_mlops_modelo_header.png\">"
   ]
  },
  {
   "cell_type": "code",
   "execution_count": 1,
   "metadata": {},
   "outputs": [],
   "source": [
    "import sys\n",
    "import numpy as np\n",
    "import pandas as pd\n",
    "import matplotlib.pyplot as plt\n",
    "import seaborn as sns\n",
    "from surprise import Dataset\n",
    "from surprise import Reader\n",
    "from surprise import SVD\n",
    "from surprise import accuracy\n",
    "from surprise.model_selection import cross_validate\n",
    "from surprise.model_selection import train_test_split\n",
    "import joblib\n"
   ]
  },
  {
   "attachments": {},
   "cell_type": "markdown",
   "metadata": {},
   "source": [
    "Vamos a desarrollar el model de recomendaciones, usando la librería surprise. Emezamos siguiendo el proceso básico: instanciar, entrenar y predecir.\n",
    "\n",
    "Posteriormen, haremos la evaluación del modelo y haremos unas métricas usando validación cruzada para encontrar los mejores hiperparámetros para nuestro modelo.\n",
    "\n",
    "Finalmente concluiremos realizando una predicción"
   ]
  },
  {
   "cell_type": "code",
   "execution_count": 2,
   "metadata": {},
   "outputs": [],
   "source": [
    "#instanciamos el reader()\n",
    "reader = Reader()"
   ]
  },
  {
   "cell_type": "code",
   "execution_count": 4,
   "metadata": {},
   "outputs": [],
   "source": [
    "#leemos el archivo de valoraciones preparado en el módulo anterior\n",
    "data_valoraciones=pd.read_parquet('./datasets_parciales/valoraciones_para_modelo.parquet')\n",
    "#data_valoraciones.drop('Unnamed: 0', axis=1, inplace=True)"
   ]
  },
  {
   "cell_type": "code",
   "execution_count": 5,
   "metadata": {},
   "outputs": [],
   "source": [
    "#cargamos 400 mil registros del archivo 'valoraciones para modelo' preparado el \n",
    "dataSR_valoraciones = Dataset.load_from_df(data_valoraciones[['userId', 'movieId', 'rating']][:400000], reader)"
   ]
  },
  {
   "cell_type": "code",
   "execution_count": 6,
   "metadata": {},
   "outputs": [],
   "source": [
    "#preparamos los conjuntos de entrenamiento y prueba, elegimos la recomendación general de 80-20\n",
    "set_entreno, set_prueba = train_test_split(dataSR_valoraciones, test_size=.20)"
   ]
  },
  {
   "cell_type": "code",
   "execution_count": 7,
   "metadata": {},
   "outputs": [],
   "source": [
    "#instanciamos el modelo\n",
    "model = SVD()"
   ]
  },
  {
   "cell_type": "code",
   "execution_count": 8,
   "metadata": {},
   "outputs": [
    {
     "data": {
      "text/plain": [
       "<surprise.prediction_algorithms.matrix_factorization.SVD at 0x7fc437b92430>"
      ]
     },
     "execution_count": 8,
     "metadata": {},
     "output_type": "execute_result"
    }
   ],
   "source": [
    "#entrenamos el modelo (Yijaa!)\n",
    "model.fit(set_entreno)"
   ]
  },
  {
   "cell_type": "code",
   "execution_count": 9,
   "metadata": {},
   "outputs": [],
   "source": [
    "#predecimos sobre el conjunto de prueba\n",
    "predictions = model.test(set_prueba)"
   ]
  },
  {
   "cell_type": "code",
   "execution_count": 10,
   "metadata": {},
   "outputs": [
    {
     "data": {
      "text/plain": [
       "Prediction(uid=251699, iid='ds379', r_ui=4.5, est=2.8202900377604214, details={'was_impossible': False})"
      ]
     },
     "execution_count": 10,
     "metadata": {},
     "output_type": "execute_result"
    }
   ],
   "source": [
    "#muestra una predicción cualquiera del conjunto de prueba\n",
    "predictions[10]"
   ]
  },
  {
   "cell_type": "code",
   "execution_count": 11,
   "metadata": {},
   "outputs": [
    {
     "name": "stdout",
     "output_type": "stream",
     "text": [
      "RMSE: 0.9951\n"
     ]
    },
    {
     "data": {
      "text/plain": [
       "0.9951457599767276"
      ]
     },
     "execution_count": 11,
     "metadata": {},
     "output_type": "execute_result"
    }
   ],
   "source": [
    "#Vamos a evaluar el modelo antes de hacer predicciones al azar con validación cruzada\n",
    "accuracy.rmse(predictions)"
   ]
  },
  {
   "attachments": {},
   "cell_type": "markdown",
   "metadata": {},
   "source": [
    "Hasta ahí parece bien el modelo, Vamos a optimizar los hiperparámetros a ver si podemos encontrar una configuración con mejores resultados"
   ]
  },
  {
   "cell_type": "code",
   "execution_count": 12,
   "metadata": {},
   "outputs": [
    {
     "name": "stdout",
     "output_type": "stream",
     "text": [
      "==================================================\n",
      "Evaluando con  1  factores\n",
      "Evaluating RMSE, MAE of algorithm SVD on 5 split(s).\n",
      "\n",
      "                  Fold 1  Fold 2  Fold 3  Fold 4  Fold 5  Mean    Std     \n",
      "RMSE (testset)    0.9784  0.9806  0.9856  0.9828  0.9834  0.9821  0.0024  \n",
      "MAE (testset)     0.7589  0.7618  0.7677  0.7636  0.7640  0.7632  0.0029  \n",
      "Fit time          2.47    2.49    2.60    2.54    2.53    2.53    0.04    \n",
      "Test time         1.32    0.96    0.96    1.20    1.23    1.13    0.15    \n",
      "==================================================\n",
      "Evaluando con  2  factores\n",
      "Evaluating RMSE, MAE of algorithm SVD on 5 split(s).\n",
      "\n",
      "                  Fold 1  Fold 2  Fold 3  Fold 4  Fold 5  Mean    Std     \n",
      "RMSE (testset)    0.9819  0.9825  0.9827  0.9798  0.9841  0.9822  0.0014  \n",
      "MAE (testset)     0.7634  0.7627  0.7625  0.7617  0.7653  0.7631  0.0012  \n",
      "Fit time          2.61    2.57    2.55    2.55    2.71    2.60    0.06    \n",
      "Test time         0.96    0.93    1.21    1.25    0.97    1.06    0.14    \n",
      "==================================================\n",
      "Evaluando con  4  factores\n",
      "Evaluating RMSE, MAE of algorithm SVD on 5 split(s).\n",
      "\n",
      "                  Fold 1  Fold 2  Fold 3  Fold 4  Fold 5  Mean    Std     \n",
      "RMSE (testset)    0.9788  0.9879  0.9846  0.9837  0.9826  0.9835  0.0030  \n",
      "MAE (testset)     0.7617  0.7677  0.7641  0.7645  0.7629  0.7642  0.0020  \n",
      "Fit time          2.55    2.72    2.71    2.69    2.67    2.67    0.06    \n",
      "Test time         1.01    0.96    1.24    1.25    0.92    1.07    0.14    \n",
      "==================================================\n",
      "Evaluando con  8  factores\n",
      "Evaluating RMSE, MAE of algorithm SVD on 5 split(s).\n",
      "\n",
      "                  Fold 1  Fold 2  Fold 3  Fold 4  Fold 5  Mean    Std     \n",
      "RMSE (testset)    0.9806  0.9842  0.9883  0.9824  0.9846  0.9840  0.0026  \n",
      "MAE (testset)     0.7627  0.7644  0.7669  0.7630  0.7648  0.7644  0.0015  \n",
      "Fit time          2.85    2.91    2.90    3.05    2.88    2.92    0.07    \n",
      "Test time         0.99    1.23    1.28    0.95    0.98    1.09    0.14    \n",
      "==================================================\n",
      "Evaluando con  16  factores\n",
      "Evaluating RMSE, MAE of algorithm SVD on 5 split(s).\n",
      "\n",
      "                  Fold 1  Fold 2  Fold 3  Fold 4  Fold 5  Mean    Std     \n",
      "RMSE (testset)    0.9833  0.9872  0.9876  0.9857  0.9872  0.9862  0.0016  \n",
      "MAE (testset)     0.7639  0.7658  0.7670  0.7651  0.7665  0.7657  0.0011  \n",
      "Fit time          3.11    3.24    3.24    3.30    3.17    3.21    0.06    \n",
      "Test time         1.27    1.28    1.25    0.96    0.98    1.15    0.15    \n",
      "==================================================\n",
      "Evaluando con  32  factores\n",
      "Evaluating RMSE, MAE of algorithm SVD on 5 split(s).\n",
      "\n",
      "                  Fold 1  Fold 2  Fold 3  Fold 4  Fold 5  Mean    Std     \n",
      "RMSE (testset)    0.9855  0.9865  0.9924  0.9897  0.9885  0.9885  0.0024  \n",
      "MAE (testset)     0.7641  0.7670  0.7701  0.7673  0.7665  0.7670  0.0019  \n",
      "Fit time          3.86    3.96    3.85    3.95    4.05    3.93    0.08    \n",
      "Test time         1.30    1.24    0.98    0.99    1.24    1.15    0.14    \n",
      "==================================================\n",
      "Evaluando con  64  factores\n",
      "Evaluating RMSE, MAE of algorithm SVD on 5 split(s).\n",
      "\n",
      "                  Fold 1  Fold 2  Fold 3  Fold 4  Fold 5  Mean    Std     \n",
      "RMSE (testset)    0.9943  0.9933  0.9892  0.9951  0.9912  0.9926  0.0022  \n",
      "MAE (testset)     0.7706  0.7712  0.7675  0.7709  0.7698  0.7700  0.0013  \n",
      "Fit time          4.99    5.12    5.12    5.26    5.01    5.10    0.10    \n",
      "Test time         1.28    1.01    0.98    1.24    1.26    1.16    0.13    \n",
      "==================================================\n",
      "Evaluando con  128  factores\n",
      "Evaluating RMSE, MAE of algorithm SVD on 5 split(s).\n",
      "\n",
      "                  Fold 1  Fold 2  Fold 3  Fold 4  Fold 5  Mean    Std     \n",
      "RMSE (testset)    0.9976  0.9949  0.9999  0.9964  1.0006  0.9979  0.0021  \n",
      "MAE (testset)     0.7749  0.7713  0.7756  0.7729  0.7754  0.7740  0.0017  \n",
      "Fit time          6.96    6.96    7.19    7.03    7.12    7.05    0.09    \n",
      "Test time         1.30    1.03    1.26    1.27    1.30    1.23    0.10    \n",
      "==================================================\n",
      "Evaluando con  256  factores\n",
      "Evaluating RMSE, MAE of algorithm SVD on 5 split(s).\n",
      "\n",
      "                  Fold 1  Fold 2  Fold 3  Fold 4  Fold 5  Mean    Std     \n",
      "RMSE (testset)    1.0084  1.0027  1.0005  1.0077  1.0008  1.0040  0.0034  \n",
      "MAE (testset)     0.7835  0.7791  0.7775  0.7820  0.7769  0.7798  0.0026  \n",
      "Fit time          10.05   10.51   10.08   10.35   10.06   10.21   0.19    \n",
      "Test time         1.05    1.28    1.36    1.29    1.00    1.19    0.14    \n"
     ]
    }
   ],
   "source": [
    "from surprise.model_selection import cross_validate\n",
    "\n",
    "rmse_test_means = []\n",
    "factores = [1,2,4,8,16,32,64,128,256]\n",
    "\n",
    "for factor in factores:\n",
    "    print ('==================================================')\n",
    "    print('Evaluando con ',factor,' factores')\n",
    "    modelo_evaluado = SVD(n_factors=factor)\n",
    "    resultado_cv = cross_validate(modelo_evaluado, dataSR_valoraciones, measures=['RMSE', 'MAE'], cv = 5, verbose=True)\n",
    "    rmse_test_means.append(np.mean(resultado_cv['test_rmse']))"
   ]
  },
  {
   "cell_type": "code",
   "execution_count": 13,
   "metadata": {},
   "outputs": [
    {
     "data": {
      "image/png": "[encoded data removed]",
      "text/plain": [
       "<Figure size 640x480 with 1 Axes>"
      ]
     },
     "metadata": {},
     "output_type": "display_data"
    }
   ],
   "source": [
    "#vamos a graficar los resultados de la evaluación\n",
    "plt.scatter(factores, rmse_test_means)\n",
    "plt.xlabel('Número de factores usados')\n",
    "plt.ylabel('Error RMSE')\n",
    "plt.show()\n"
   ]
  },
  {
   "attachments": {},
   "cell_type": "markdown",
   "metadata": {},
   "source": [
    "Ahora nos detendremos a verificar el desempeñp del mejor modelo"
   ]
  },
  {
   "cell_type": "code",
   "execution_count": 14,
   "metadata": {},
   "outputs": [
    {
     "name": "stdout",
     "output_type": "stream",
     "text": [
      "mejores puntajes : rmse -> 0.9726106420909386  mae -> 0.7574058326152722\n",
      "mejores parámetros : rmse -> {'n_factors': 5, 'n_epochs': 5, 'lr_all': 0.005, 'reg_all': 0.002}  mae -> {'n_factors': 5, 'n_epochs': 20, 'lr_all': 0.002, 'reg_all': 0.002}\n"
     ]
    }
   ],
   "source": [
    "from surprise.model_selection import GridSearchCV\n",
    "\n",
    "parametros = {'n_factors': [5,50,100],'n_epochs': [5, 10,20], 'lr_all': [0.001, 0.002, 0.005],\n",
    "              'reg_all': [0.002, 0.02, 0.2]}\n",
    "gs = GridSearchCV(SVD, parametros, measures=['RMSE', 'MAE'], cv=3, n_jobs = -1)\n",
    "gs.fit(dataSR_valoraciones)\n",
    "\n",
    "print('mejores puntajes : rmse ->',gs.best_score['rmse'],' mae ->',gs.best_score['mae'])\n",
    "print('mejores parámetros : rmse ->',gs.best_params['rmse'],' mae ->',gs.best_params['mae'])"
   ]
  },
  {
   "attachments": {},
   "cell_type": "markdown",
   "metadata": {},
   "source": [
    "Ahora si, tenemos un modelo aceptablemente preciso. vamos a realizar una predicción para alguno de los usuario.\n"
   ]
  },
  {
   "cell_type": "code",
   "execution_count": 15,
   "metadata": {},
   "outputs": [],
   "source": [
    "#entrenamos el modelo con los parámetros encontrado\n",
    "modelo_mejor_evaluado = SVD(n_factors=5, n_epochs=5, lr_all=0.005, reg_all=0.002)"
   ]
  },
  {
   "cell_type": "code",
   "execution_count": 16,
   "metadata": {},
   "outputs": [],
   "source": [
    "#entrenamos el mejor modelo encontrado (Yijaa! * 2)\n",
    "modelo_mejor_evaluado.fit(set_entreno)\n",
    "predictions = modelo_mejor_evaluado.test(set_prueba)"
   ]
  },
  {
   "attachments": {},
   "cell_type": "markdown",
   "metadata": {},
   "source": [
    "Vamos a hacer una predición para un usuario, ¿te gusta el usuario que esté en la posición 350,830 del dataset que ingresamos?"
   ]
  },
  {
   "cell_type": "code",
   "execution_count": 28,
   "metadata": {},
   "outputs": [
    {
     "data": {
      "text/html": [
       "<div>\n",
       "<style scoped>\n",
       "    .dataframe tbody tr th:only-of-type {\n",
       "        vertical-align: middle;\n",
       "    }\n",
       "\n",
       "    .dataframe tbody tr th {\n",
       "        vertical-align: top;\n",
       "    }\n",
       "\n",
       "    .dataframe thead th {\n",
       "        text-align: right;\n",
       "    }\n",
       "</style>\n",
       "<table border=\"1\" class=\"dataframe\">\n",
       "  <thead>\n",
       "    <tr style=\"text-align: right;\">\n",
       "      <th></th>\n",
       "      <th>userId</th>\n",
       "      <th>rating</th>\n",
       "      <th>timestamp</th>\n",
       "      <th>movieId</th>\n",
       "    </tr>\n",
       "  </thead>\n",
       "  <tbody>\n",
       "    <tr>\n",
       "      <th>0</th>\n",
       "      <td>249182</td>\n",
       "      <td>3.5</td>\n",
       "      <td>2016-04-12</td>\n",
       "      <td>ds327</td>\n",
       "    </tr>\n",
       "    <tr>\n",
       "      <th>2</th>\n",
       "      <td>249182</td>\n",
       "      <td>3.0</td>\n",
       "      <td>2016-04-09</td>\n",
       "      <td>as8841</td>\n",
       "    </tr>\n",
       "    <tr>\n",
       "      <th>3</th>\n",
       "      <td>249182</td>\n",
       "      <td>4.5</td>\n",
       "      <td>2016-04-09</td>\n",
       "      <td>hs2318</td>\n",
       "    </tr>\n",
       "    <tr>\n",
       "      <th>4</th>\n",
       "      <td>249182</td>\n",
       "      <td>2.5</td>\n",
       "      <td>2016-04-09</td>\n",
       "      <td>as5743</td>\n",
       "    </tr>\n",
       "    <tr>\n",
       "      <th>5</th>\n",
       "      <td>249182</td>\n",
       "      <td>2.5</td>\n",
       "      <td>2016-04-09</td>\n",
       "      <td>ns7267</td>\n",
       "    </tr>\n",
       "    <tr>\n",
       "      <th>...</th>\n",
       "      <td>...</td>\n",
       "      <td>...</td>\n",
       "      <td>...</td>\n",
       "      <td>...</td>\n",
       "    </tr>\n",
       "    <tr>\n",
       "      <th>1499995</th>\n",
       "      <td>61768</td>\n",
       "      <td>3.5</td>\n",
       "      <td>2015-07-28</td>\n",
       "      <td>hs1021</td>\n",
       "    </tr>\n",
       "    <tr>\n",
       "      <th>1499996</th>\n",
       "      <td>61768</td>\n",
       "      <td>3.0</td>\n",
       "      <td>2015-07-28</td>\n",
       "      <td>hs885</td>\n",
       "    </tr>\n",
       "    <tr>\n",
       "      <th>1499997</th>\n",
       "      <td>61768</td>\n",
       "      <td>4.0</td>\n",
       "      <td>2015-06-30</td>\n",
       "      <td>as4321</td>\n",
       "    </tr>\n",
       "    <tr>\n",
       "      <th>1499998</th>\n",
       "      <td>61768</td>\n",
       "      <td>4.0</td>\n",
       "      <td>2015-07-28</td>\n",
       "      <td>hs2422</td>\n",
       "    </tr>\n",
       "    <tr>\n",
       "      <th>1499999</th>\n",
       "      <td>61768</td>\n",
       "      <td>3.5</td>\n",
       "      <td>2015-07-28</td>\n",
       "      <td>as6170</td>\n",
       "    </tr>\n",
       "  </tbody>\n",
       "</table>\n",
       "<p>10294674 rows × 4 columns</p>\n",
       "</div>"
      ],
      "text/plain": [
       "         userId  rating  timestamp movieId\n",
       "0        249182     3.5 2016-04-12   ds327\n",
       "2        249182     3.0 2016-04-09  as8841\n",
       "3        249182     4.5 2016-04-09  hs2318\n",
       "4        249182     2.5 2016-04-09  as5743\n",
       "5        249182     2.5 2016-04-09  ns7267\n",
       "...         ...     ...        ...     ...\n",
       "1499995   61768     3.5 2015-07-28  hs1021\n",
       "1499996   61768     3.0 2015-07-28   hs885\n",
       "1499997   61768     4.0 2015-06-30  as4321\n",
       "1499998   61768     4.0 2015-07-28  hs2422\n",
       "1499999   61768     3.5 2015-07-28  as6170\n",
       "\n",
       "[10294674 rows x 4 columns]"
      ]
     },
     "execution_count": 28,
     "metadata": {},
     "output_type": "execute_result"
    }
   ],
   "source": [
    "data_valoraciones"
   ]
  },
  {
   "cell_type": "code",
   "execution_count": 32,
   "metadata": {},
   "outputs": [
    {
     "name": "stdout",
     "output_type": "stream",
     "text": [
      "usuario a evaluar 253180\n"
     ]
    }
   ],
   "source": [
    "usuario_a_evaluar=data_valoraciones.iloc[350830]['userId']\n",
    "print('usuario a evaluar',usuario_a_evaluar)"
   ]
  },
  {
   "cell_type": "code",
   "execution_count": 33,
   "metadata": {},
   "outputs": [
    {
     "data": {
      "text/html": [
       "<div>\n",
       "<style scoped>\n",
       "    .dataframe tbody tr th:only-of-type {\n",
       "        vertical-align: middle;\n",
       "    }\n",
       "\n",
       "    .dataframe tbody tr th {\n",
       "        vertical-align: top;\n",
       "    }\n",
       "\n",
       "    .dataframe thead th {\n",
       "        text-align: right;\n",
       "    }\n",
       "</style>\n",
       "<table border=\"1\" class=\"dataframe\">\n",
       "  <thead>\n",
       "    <tr style=\"text-align: right;\">\n",
       "      <th></th>\n",
       "      <th>userId</th>\n",
       "      <th>rating</th>\n",
       "      <th>timestamp</th>\n",
       "      <th>movieId</th>\n",
       "    </tr>\n",
       "  </thead>\n",
       "  <tbody>\n",
       "    <tr>\n",
       "      <th>375691</th>\n",
       "      <td>253180</td>\n",
       "      <td>4.0</td>\n",
       "      <td>1996-06-05</td>\n",
       "      <td>as2367</td>\n",
       "    </tr>\n",
       "    <tr>\n",
       "      <th>375692</th>\n",
       "      <td>253180</td>\n",
       "      <td>3.0</td>\n",
       "      <td>1996-06-05</td>\n",
       "      <td>as106</td>\n",
       "    </tr>\n",
       "    <tr>\n",
       "      <th>375693</th>\n",
       "      <td>253180</td>\n",
       "      <td>3.0</td>\n",
       "      <td>1996-06-05</td>\n",
       "      <td>as3503</td>\n",
       "    </tr>\n",
       "    <tr>\n",
       "      <th>375694</th>\n",
       "      <td>253180</td>\n",
       "      <td>4.0</td>\n",
       "      <td>1996-06-05</td>\n",
       "      <td>ns2429</td>\n",
       "    </tr>\n",
       "    <tr>\n",
       "      <th>375695</th>\n",
       "      <td>253180</td>\n",
       "      <td>3.0</td>\n",
       "      <td>1996-06-05</td>\n",
       "      <td>ns3587</td>\n",
       "    </tr>\n",
       "    <tr>\n",
       "      <th>...</th>\n",
       "      <td>...</td>\n",
       "      <td>...</td>\n",
       "      <td>...</td>\n",
       "      <td>...</td>\n",
       "    </tr>\n",
       "    <tr>\n",
       "      <th>375765</th>\n",
       "      <td>253180</td>\n",
       "      <td>4.0</td>\n",
       "      <td>1996-06-05</td>\n",
       "      <td>ns3669</td>\n",
       "    </tr>\n",
       "    <tr>\n",
       "      <th>375766</th>\n",
       "      <td>253180</td>\n",
       "      <td>4.0</td>\n",
       "      <td>1996-06-05</td>\n",
       "      <td>hs445</td>\n",
       "    </tr>\n",
       "    <tr>\n",
       "      <th>375767</th>\n",
       "      <td>253180</td>\n",
       "      <td>3.0</td>\n",
       "      <td>1996-06-05</td>\n",
       "      <td>ns66</td>\n",
       "    </tr>\n",
       "    <tr>\n",
       "      <th>375768</th>\n",
       "      <td>253180</td>\n",
       "      <td>5.0</td>\n",
       "      <td>1996-06-05</td>\n",
       "      <td>ns351</td>\n",
       "    </tr>\n",
       "    <tr>\n",
       "      <th>375769</th>\n",
       "      <td>253180</td>\n",
       "      <td>3.0</td>\n",
       "      <td>1996-06-05</td>\n",
       "      <td>as2176</td>\n",
       "    </tr>\n",
       "  </tbody>\n",
       "</table>\n",
       "<p>72 rows × 4 columns</p>\n",
       "</div>"
      ],
      "text/plain": [
       "        userId  rating  timestamp movieId\n",
       "375691  253180     4.0 1996-06-05  as2367\n",
       "375692  253180     3.0 1996-06-05   as106\n",
       "375693  253180     3.0 1996-06-05  as3503\n",
       "375694  253180     4.0 1996-06-05  ns2429\n",
       "375695  253180     3.0 1996-06-05  ns3587\n",
       "...        ...     ...        ...     ...\n",
       "375765  253180     4.0 1996-06-05  ns3669\n",
       "375766  253180     4.0 1996-06-05   hs445\n",
       "375767  253180     3.0 1996-06-05    ns66\n",
       "375768  253180     5.0 1996-06-05   ns351\n",
       "375769  253180     3.0 1996-06-05  as2176\n",
       "\n",
       "[72 rows x 4 columns]"
      ]
     },
     "execution_count": 33,
     "metadata": {},
     "output_type": "execute_result"
    }
   ],
   "source": [
    "#veamos cuales películas ha visto y que mejor ha calificado, vamos por 3 para arriba\n",
    "data_usuario = data_valoraciones[(data_valoraciones['rating']>=3.0) & (data_valoraciones['userId']==usuario_a_evaluar) ]\n",
    "data_usuario"
   ]
  },
  {
   "attachments": {},
   "cell_type": "markdown",
   "metadata": {},
   "source": [
    "Bueno, parece ser un usuario muy activo... veamos que podemos ofrecerle "
   ]
  },
  {
   "cell_type": "code",
   "execution_count": 34,
   "metadata": {},
   "outputs": [],
   "source": [
    "#cargamos el dataset de las películas y nos traemos el nombre\n",
    "data_movies=pd.read_csv('./datasets_parciales/titles_total.csv')"
   ]
  },
  {
   "cell_type": "code",
   "execution_count": 35,
   "metadata": {},
   "outputs": [
    {
     "data": {
      "text/html": [
       "<div>\n",
       "<style scoped>\n",
       "    .dataframe tbody tr th:only-of-type {\n",
       "        vertical-align: middle;\n",
       "    }\n",
       "\n",
       "    .dataframe tbody tr th {\n",
       "        vertical-align: top;\n",
       "    }\n",
       "\n",
       "    .dataframe thead th {\n",
       "        text-align: right;\n",
       "    }\n",
       "</style>\n",
       "<table border=\"1\" class=\"dataframe\">\n",
       "  <thead>\n",
       "    <tr style=\"text-align: right;\">\n",
       "      <th></th>\n",
       "      <th>type</th>\n",
       "      <th>title</th>\n",
       "      <th>director</th>\n",
       "      <th>cast</th>\n",
       "      <th>country</th>\n",
       "      <th>release_year</th>\n",
       "      <th>rating</th>\n",
       "      <th>listed_in</th>\n",
       "      <th>description</th>\n",
       "      <th>id</th>\n",
       "      <th>date_added_std</th>\n",
       "      <th>duration_int</th>\n",
       "      <th>duration_type</th>\n",
       "      <th>score</th>\n",
       "    </tr>\n",
       "  </thead>\n",
       "  <tbody>\n",
       "    <tr>\n",
       "      <th>0</th>\n",
       "      <td>movie</td>\n",
       "      <td>duck the halls: a mickey mouse christmas special</td>\n",
       "      <td>alonso ramirez ramos, dave wasson</td>\n",
       "      <td>chris diamantopoulos, tony anselmo, tress macn...</td>\n",
       "      <td>NaN</td>\n",
       "      <td>2016</td>\n",
       "      <td>tv-g</td>\n",
       "      <td>animation, family</td>\n",
       "      <td>join mickey and the gang as they duck the halls!</td>\n",
       "      <td>ds1</td>\n",
       "      <td>2021-11-26</td>\n",
       "      <td>23</td>\n",
       "      <td>min</td>\n",
       "      <td>3.6</td>\n",
       "    </tr>\n",
       "    <tr>\n",
       "      <th>1</th>\n",
       "      <td>movie</td>\n",
       "      <td>ernest saves christmas</td>\n",
       "      <td>john cherry</td>\n",
       "      <td>jim varney, noelle parker, douglas seale</td>\n",
       "      <td>NaN</td>\n",
       "      <td>1988</td>\n",
       "      <td>pg</td>\n",
       "      <td>comedy</td>\n",
       "      <td>santa claus passes his magic bag to a new st. ...</td>\n",
       "      <td>ds2</td>\n",
       "      <td>2021-11-26</td>\n",
       "      <td>91</td>\n",
       "      <td>min</td>\n",
       "      <td>3.5</td>\n",
       "    </tr>\n",
       "    <tr>\n",
       "      <th>2</th>\n",
       "      <td>movie</td>\n",
       "      <td>ice age: a mammoth christmas</td>\n",
       "      <td>karen disher</td>\n",
       "      <td>raymond albert romano, john leguizamo, denis l...</td>\n",
       "      <td>united states</td>\n",
       "      <td>2011</td>\n",
       "      <td>tv-g</td>\n",
       "      <td>animation, comedy, family</td>\n",
       "      <td>sid the sloth is on santa's naughty list.</td>\n",
       "      <td>ds3</td>\n",
       "      <td>2021-11-26</td>\n",
       "      <td>23</td>\n",
       "      <td>min</td>\n",
       "      <td>3.6</td>\n",
       "    </tr>\n",
       "    <tr>\n",
       "      <th>3</th>\n",
       "      <td>movie</td>\n",
       "      <td>the queen family singalong</td>\n",
       "      <td>hamish hamilton</td>\n",
       "      <td>darren criss, adam lambert, derek hough, alexa...</td>\n",
       "      <td>NaN</td>\n",
       "      <td>2021</td>\n",
       "      <td>tv-pg</td>\n",
       "      <td>musical</td>\n",
       "      <td>this is real life, not just fantasy!</td>\n",
       "      <td>ds4</td>\n",
       "      <td>2021-11-26</td>\n",
       "      <td>41</td>\n",
       "      <td>min</td>\n",
       "      <td>3.5</td>\n",
       "    </tr>\n",
       "    <tr>\n",
       "      <th>4</th>\n",
       "      <td>tv show</td>\n",
       "      <td>the beatles: get back</td>\n",
       "      <td>NaN</td>\n",
       "      <td>john lennon, paul mccartney, george harrison, ...</td>\n",
       "      <td>NaN</td>\n",
       "      <td>2021</td>\n",
       "      <td>g</td>\n",
       "      <td>docuseries, historical, music</td>\n",
       "      <td>a three-part documentary from peter jackson ca...</td>\n",
       "      <td>ds5</td>\n",
       "      <td>2021-11-25</td>\n",
       "      <td>1</td>\n",
       "      <td>season</td>\n",
       "      <td>3.5</td>\n",
       "    </tr>\n",
       "  </tbody>\n",
       "</table>\n",
       "</div>"
      ],
      "text/plain": [
       "      type                                             title  \\\n",
       "0    movie  duck the halls: a mickey mouse christmas special   \n",
       "1    movie                            ernest saves christmas   \n",
       "2    movie                      ice age: a mammoth christmas   \n",
       "3    movie                        the queen family singalong   \n",
       "4  tv show                             the beatles: get back   \n",
       "\n",
       "                            director  \\\n",
       "0  alonso ramirez ramos, dave wasson   \n",
       "1                        john cherry   \n",
       "2                       karen disher   \n",
       "3                    hamish hamilton   \n",
       "4                                NaN   \n",
       "\n",
       "                                                cast        country  \\\n",
       "0  chris diamantopoulos, tony anselmo, tress macn...            NaN   \n",
       "1           jim varney, noelle parker, douglas seale            NaN   \n",
       "2  raymond albert romano, john leguizamo, denis l...  united states   \n",
       "3  darren criss, adam lambert, derek hough, alexa...            NaN   \n",
       "4  john lennon, paul mccartney, george harrison, ...            NaN   \n",
       "\n",
       "   release_year rating                      listed_in  \\\n",
       "0          2016   tv-g              animation, family   \n",
       "1          1988     pg                         comedy   \n",
       "2          2011   tv-g      animation, comedy, family   \n",
       "3          2021  tv-pg                        musical   \n",
       "4          2021      g  docuseries, historical, music   \n",
       "\n",
       "                                         description   id date_added_std  \\\n",
       "0   join mickey and the gang as they duck the halls!  ds1     2021-11-26   \n",
       "1  santa claus passes his magic bag to a new st. ...  ds2     2021-11-26   \n",
       "2          sid the sloth is on santa's naughty list.  ds3     2021-11-26   \n",
       "3               this is real life, not just fantasy!  ds4     2021-11-26   \n",
       "4  a three-part documentary from peter jackson ca...  ds5     2021-11-25   \n",
       "\n",
       "   duration_int duration_type  score  \n",
       "0            23           min    3.6  \n",
       "1            91           min    3.5  \n",
       "2            23           min    3.6  \n",
       "3            41           min    3.5  \n",
       "4             1        season    3.5  "
      ]
     },
     "execution_count": 35,
     "metadata": {},
     "output_type": "execute_result"
    }
   ],
   "source": [
    "data_movies.drop('Unnamed: 0',axis=1,inplace=True)\n",
    "data_movies.head()"
   ]
  },
  {
   "cell_type": "code",
   "execution_count": 36,
   "metadata": {},
   "outputs": [],
   "source": [
    "#nos traemos el nombre de esas películas\n",
    "data_usuario = pd.merge(left=data_usuario,right=data_movies[['id','title']], how='left', left_on=data_usuario.movieId, right_on='id')"
   ]
  },
  {
   "cell_type": "code",
   "execution_count": 37,
   "metadata": {},
   "outputs": [
    {
     "data": {
      "text/html": [
       "<div>\n",
       "<style scoped>\n",
       "    .dataframe tbody tr th:only-of-type {\n",
       "        vertical-align: middle;\n",
       "    }\n",
       "\n",
       "    .dataframe tbody tr th {\n",
       "        vertical-align: top;\n",
       "    }\n",
       "\n",
       "    .dataframe thead th {\n",
       "        text-align: right;\n",
       "    }\n",
       "</style>\n",
       "<table border=\"1\" class=\"dataframe\">\n",
       "  <thead>\n",
       "    <tr style=\"text-align: right;\">\n",
       "      <th></th>\n",
       "      <th>userId</th>\n",
       "      <th>rating</th>\n",
       "      <th>timestamp</th>\n",
       "      <th>movieId</th>\n",
       "      <th>id</th>\n",
       "      <th>title</th>\n",
       "    </tr>\n",
       "  </thead>\n",
       "  <tbody>\n",
       "    <tr>\n",
       "      <th>0</th>\n",
       "      <td>253180</td>\n",
       "      <td>4.0</td>\n",
       "      <td>1996-06-05</td>\n",
       "      <td>as2367</td>\n",
       "      <td>as2367</td>\n",
       "      <td>george carlin: you are all diseased</td>\n",
       "    </tr>\n",
       "    <tr>\n",
       "      <th>1</th>\n",
       "      <td>253180</td>\n",
       "      <td>3.0</td>\n",
       "      <td>1996-06-05</td>\n",
       "      <td>as106</td>\n",
       "      <td>as106</td>\n",
       "      <td>why we fight</td>\n",
       "    </tr>\n",
       "    <tr>\n",
       "      <th>2</th>\n",
       "      <td>253180</td>\n",
       "      <td>3.0</td>\n",
       "      <td>1996-06-05</td>\n",
       "      <td>as3503</td>\n",
       "      <td>as3503</td>\n",
       "      <td>2019 avp austin open - day 2</td>\n",
       "    </tr>\n",
       "    <tr>\n",
       "      <th>3</th>\n",
       "      <td>253180</td>\n",
       "      <td>4.0</td>\n",
       "      <td>1996-06-05</td>\n",
       "      <td>ns2429</td>\n",
       "      <td>ns2429</td>\n",
       "      <td>overnight republic</td>\n",
       "    </tr>\n",
       "    <tr>\n",
       "      <th>4</th>\n",
       "      <td>253180</td>\n",
       "      <td>3.0</td>\n",
       "      <td>1996-06-05</td>\n",
       "      <td>ns3587</td>\n",
       "      <td>ns3587</td>\n",
       "      <td>the little switzerland</td>\n",
       "    </tr>\n",
       "    <tr>\n",
       "      <th>...</th>\n",
       "      <td>...</td>\n",
       "      <td>...</td>\n",
       "      <td>...</td>\n",
       "      <td>...</td>\n",
       "      <td>...</td>\n",
       "      <td>...</td>\n",
       "    </tr>\n",
       "    <tr>\n",
       "      <th>67</th>\n",
       "      <td>253180</td>\n",
       "      <td>4.0</td>\n",
       "      <td>1996-06-05</td>\n",
       "      <td>ns3669</td>\n",
       "      <td>ns3669</td>\n",
       "      <td>4l</td>\n",
       "    </tr>\n",
       "    <tr>\n",
       "      <th>68</th>\n",
       "      <td>253180</td>\n",
       "      <td>4.0</td>\n",
       "      <td>1996-06-05</td>\n",
       "      <td>hs445</td>\n",
       "      <td>hs445</td>\n",
       "      <td>exit plan</td>\n",
       "    </tr>\n",
       "    <tr>\n",
       "      <th>69</th>\n",
       "      <td>253180</td>\n",
       "      <td>3.0</td>\n",
       "      <td>1996-06-05</td>\n",
       "      <td>ns66</td>\n",
       "      <td>ns66</td>\n",
       "      <td>numberblocks</td>\n",
       "    </tr>\n",
       "    <tr>\n",
       "      <th>70</th>\n",
       "      <td>253180</td>\n",
       "      <td>5.0</td>\n",
       "      <td>1996-06-05</td>\n",
       "      <td>ns351</td>\n",
       "      <td>ns351</td>\n",
       "      <td>space cowboys</td>\n",
       "    </tr>\n",
       "    <tr>\n",
       "      <th>71</th>\n",
       "      <td>253180</td>\n",
       "      <td>3.0</td>\n",
       "      <td>1996-06-05</td>\n",
       "      <td>as2176</td>\n",
       "      <td>as2176</td>\n",
       "      <td>how china got rich</td>\n",
       "    </tr>\n",
       "  </tbody>\n",
       "</table>\n",
       "<p>72 rows × 6 columns</p>\n",
       "</div>"
      ],
      "text/plain": [
       "    userId  rating  timestamp movieId      id  \\\n",
       "0   253180     4.0 1996-06-05  as2367  as2367   \n",
       "1   253180     3.0 1996-06-05   as106   as106   \n",
       "2   253180     3.0 1996-06-05  as3503  as3503   \n",
       "3   253180     4.0 1996-06-05  ns2429  ns2429   \n",
       "4   253180     3.0 1996-06-05  ns3587  ns3587   \n",
       "..     ...     ...        ...     ...     ...   \n",
       "67  253180     4.0 1996-06-05  ns3669  ns3669   \n",
       "68  253180     4.0 1996-06-05   hs445   hs445   \n",
       "69  253180     3.0 1996-06-05    ns66    ns66   \n",
       "70  253180     5.0 1996-06-05   ns351   ns351   \n",
       "71  253180     3.0 1996-06-05  as2176  as2176   \n",
       "\n",
       "                                  title  \n",
       "0   george carlin: you are all diseased  \n",
       "1                          why we fight  \n",
       "2          2019 avp austin open - day 2  \n",
       "3                    overnight republic  \n",
       "4                the little switzerland  \n",
       "..                                  ...  \n",
       "67                                   4l  \n",
       "68                            exit plan  \n",
       "69                         numberblocks  \n",
       "70                        space cowboys  \n",
       "71                   how china got rich  \n",
       "\n",
       "[72 rows x 6 columns]"
      ]
     },
     "execution_count": 37,
     "metadata": {},
     "output_type": "execute_result"
    }
   ],
   "source": [
    "data_usuario"
   ]
  },
  {
   "attachments": {},
   "cell_type": "markdown",
   "metadata": {},
   "source": [
    "sacamos las películas que desde el modulo \"EDA\" decidimos no considerar, para dejar el universo de \n",
    "películas evaluadas y quitar, además las películas que ya vió el usuario en cuestión"
   ]
  },
  {
   "cell_type": "code",
   "execution_count": 39,
   "metadata": {},
   "outputs": [
    {
     "data": {
      "text/html": [
       "<div>\n",
       "<style scoped>\n",
       "    .dataframe tbody tr th:only-of-type {\n",
       "        vertical-align: middle;\n",
       "    }\n",
       "\n",
       "    .dataframe tbody tr th {\n",
       "        vertical-align: top;\n",
       "    }\n",
       "\n",
       "    .dataframe thead th {\n",
       "        text-align: right;\n",
       "    }\n",
       "</style>\n",
       "<table border=\"1\" class=\"dataframe\">\n",
       "  <thead>\n",
       "    <tr style=\"text-align: right;\">\n",
       "      <th></th>\n",
       "      <th>id</th>\n",
       "    </tr>\n",
       "  </thead>\n",
       "  <tbody>\n",
       "    <tr>\n",
       "      <th>0</th>\n",
       "      <td>ns8168</td>\n",
       "    </tr>\n",
       "    <tr>\n",
       "      <th>1</th>\n",
       "      <td>as5312</td>\n",
       "    </tr>\n",
       "    <tr>\n",
       "      <th>2</th>\n",
       "      <td>as7644</td>\n",
       "    </tr>\n",
       "    <tr>\n",
       "      <th>3</th>\n",
       "      <td>as7249</td>\n",
       "    </tr>\n",
       "    <tr>\n",
       "      <th>4</th>\n",
       "      <td>as2553</td>\n",
       "    </tr>\n",
       "    <tr>\n",
       "      <th>...</th>\n",
       "      <td>...</td>\n",
       "    </tr>\n",
       "    <tr>\n",
       "      <th>1506</th>\n",
       "      <td>as8336</td>\n",
       "    </tr>\n",
       "    <tr>\n",
       "      <th>1507</th>\n",
       "      <td>ns8250</td>\n",
       "    </tr>\n",
       "    <tr>\n",
       "      <th>1508</th>\n",
       "      <td>ds978</td>\n",
       "    </tr>\n",
       "    <tr>\n",
       "      <th>1509</th>\n",
       "      <td>as7617</td>\n",
       "    </tr>\n",
       "    <tr>\n",
       "      <th>1510</th>\n",
       "      <td>ns3618</td>\n",
       "    </tr>\n",
       "  </tbody>\n",
       "</table>\n",
       "<p>1511 rows × 1 columns</p>\n",
       "</div>"
      ],
      "text/plain": [
       "          id\n",
       "0     ns8168\n",
       "1     as5312\n",
       "2     as7644\n",
       "3     as7249\n",
       "4     as2553\n",
       "...      ...\n",
       "1506  as8336\n",
       "1507  ns8250\n",
       "1508   ds978\n",
       "1509  as7617\n",
       "1510  ns3618\n",
       "\n",
       "[1511 rows x 1 columns]"
      ]
     },
     "execution_count": 39,
     "metadata": {},
     "output_type": "execute_result"
    }
   ],
   "source": [
    "#películas no consideradas\n",
    "data_peliculas_fuera = pd.read_csv('./datasets_parciales/moviesId_noconsideradas.csv')\n",
    "data_peliculas_fuera.drop('Unnamed: 0', axis=1)"
   ]
  },
  {
   "cell_type": "code",
   "execution_count": 43,
   "metadata": {},
   "outputs": [
    {
     "data": {
      "text/plain": [
       "(22998, 14)"
      ]
     },
     "execution_count": 43,
     "metadata": {},
     "output_type": "execute_result"
    }
   ],
   "source": [
    "data_movies.shape"
   ]
  },
  {
   "cell_type": "code",
   "execution_count": 45,
   "metadata": {},
   "outputs": [
    {
     "name": "stdout",
     "output_type": "stream",
     "text": [
      "se supone que borra\n"
     ]
    },
    {
     "data": {
      "text/plain": [
       "(21487, 14)"
      ]
     },
     "execution_count": 45,
     "metadata": {},
     "output_type": "execute_result"
    }
   ],
   "source": [
    "#quitarlas de data_movies, nos deben quedar 22,998 - 1,511 =  21,487\n",
    "data_movies_seleccionado = data_movies[~data_movies['id'].isin(data_peliculas_fuera['id'])]\n",
    "data_movies_seleccionado.shape"
   ]
  },
  {
   "cell_type": "code",
   "execution_count": 46,
   "metadata": {},
   "outputs": [],
   "source": [
    "data_recomendaciones_posibles = data_movies_seleccionado[['id','title','score']]"
   ]
  },
  {
   "cell_type": "code",
   "execution_count": 47,
   "metadata": {},
   "outputs": [
    {
     "data": {
      "text/html": [
       "<div>\n",
       "<style scoped>\n",
       "    .dataframe tbody tr th:only-of-type {\n",
       "        vertical-align: middle;\n",
       "    }\n",
       "\n",
       "    .dataframe tbody tr th {\n",
       "        vertical-align: top;\n",
       "    }\n",
       "\n",
       "    .dataframe thead th {\n",
       "        text-align: right;\n",
       "    }\n",
       "</style>\n",
       "<table border=\"1\" class=\"dataframe\">\n",
       "  <thead>\n",
       "    <tr style=\"text-align: right;\">\n",
       "      <th></th>\n",
       "      <th>id</th>\n",
       "      <th>title</th>\n",
       "      <th>score</th>\n",
       "    </tr>\n",
       "  </thead>\n",
       "  <tbody>\n",
       "    <tr>\n",
       "      <th>0</th>\n",
       "      <td>ds1</td>\n",
       "      <td>duck the halls: a mickey mouse christmas special</td>\n",
       "      <td>3.6</td>\n",
       "    </tr>\n",
       "    <tr>\n",
       "      <th>1</th>\n",
       "      <td>ds2</td>\n",
       "      <td>ernest saves christmas</td>\n",
       "      <td>3.5</td>\n",
       "    </tr>\n",
       "    <tr>\n",
       "      <th>2</th>\n",
       "      <td>ds3</td>\n",
       "      <td>ice age: a mammoth christmas</td>\n",
       "      <td>3.6</td>\n",
       "    </tr>\n",
       "    <tr>\n",
       "      <th>3</th>\n",
       "      <td>ds4</td>\n",
       "      <td>the queen family singalong</td>\n",
       "      <td>3.5</td>\n",
       "    </tr>\n",
       "    <tr>\n",
       "      <th>4</th>\n",
       "      <td>ds5</td>\n",
       "      <td>the beatles: get back</td>\n",
       "      <td>3.5</td>\n",
       "    </tr>\n",
       "  </tbody>\n",
       "</table>\n",
       "</div>"
      ],
      "text/plain": [
       "    id                                             title  score\n",
       "0  ds1  duck the halls: a mickey mouse christmas special    3.6\n",
       "1  ds2                            ernest saves christmas    3.5\n",
       "2  ds3                      ice age: a mammoth christmas    3.6\n",
       "3  ds4                        the queen family singalong    3.5\n",
       "4  ds5                             the beatles: get back    3.5"
      ]
     },
     "execution_count": 47,
     "metadata": {},
     "output_type": "execute_result"
    }
   ],
   "source": [
    "data_recomendaciones_posibles.head()"
   ]
  },
  {
   "attachments": {},
   "cell_type": "markdown",
   "metadata": {},
   "source": [
    "Teniendo el universo de películas, se hace la recomendación"
   ]
  },
  {
   "cell_type": "code",
   "execution_count": 48,
   "metadata": {},
   "outputs": [
    {
     "name": "stderr",
     "output_type": "stream",
     "text": [
      "/tmp/ipykernel_12064/4042930965.py:2: SettingWithCopyWarning: \n",
      "A value is trying to be set on a copy of a slice from a DataFrame.\n",
      "Try using .loc[row_indexer,col_indexer] = value instead\n",
      "\n",
      "See the caveats in the documentation: https://pandas.pydata.org/pandas-docs/stable/user_guide/indexing.html#returning-a-view-versus-a-copy\n",
      "  data_recomendaciones_posibles['ScoreEstimado'] = data_recomendaciones_posibles['id'].apply(lambda x: modelo_mejor_evaluado.predict(usuario_a_evaluar, x).est)\n"
     ]
    }
   ],
   "source": [
    "#\n",
    "data_recomendaciones_posibles['ScoreEstimado'] = data_recomendaciones_posibles['id'].apply(lambda x: modelo_mejor_evaluado.predict(usuario_a_evaluar, x).est)"
   ]
  },
  {
   "attachments": {},
   "cell_type": "markdown",
   "metadata": {},
   "source": [
    "¡Por fin! mostramos las 10 películas que le podemos recomendar al usuario elegido"
   ]
  },
  {
   "cell_type": "code",
   "execution_count": 49,
   "metadata": {},
   "outputs": [
    {
     "name": "stderr",
     "output_type": "stream",
     "text": [
      "/tmp/ipykernel_12064/3889983438.py:1: SettingWithCopyWarning: \n",
      "A value is trying to be set on a copy of a slice from a DataFrame\n",
      "\n",
      "See the caveats in the documentation: https://pandas.pydata.org/pandas-docs/stable/user_guide/indexing.html#returning-a-view-versus-a-copy\n",
      "  data_recomendaciones_posibles.sort_values('ScoreEstimado', ascending = False, inplace=True)\n"
     ]
    },
    {
     "data": {
      "text/html": [
       "<div>\n",
       "<style scoped>\n",
       "    .dataframe tbody tr th:only-of-type {\n",
       "        vertical-align: middle;\n",
       "    }\n",
       "\n",
       "    .dataframe tbody tr th {\n",
       "        vertical-align: top;\n",
       "    }\n",
       "\n",
       "    .dataframe thead th {\n",
       "        text-align: right;\n",
       "    }\n",
       "</style>\n",
       "<table border=\"1\" class=\"dataframe\">\n",
       "  <thead>\n",
       "    <tr style=\"text-align: right;\">\n",
       "      <th></th>\n",
       "      <th>id</th>\n",
       "      <th>title</th>\n",
       "      <th>score</th>\n",
       "      <th>ScoreEstimado</th>\n",
       "    </tr>\n",
       "  </thead>\n",
       "  <tbody>\n",
       "    <tr>\n",
       "      <th>14471</th>\n",
       "      <td>ns281</td>\n",
       "      <td>bake squad</td>\n",
       "      <td>3.6</td>\n",
       "      <td>3.811629</td>\n",
       "    </tr>\n",
       "    <tr>\n",
       "      <th>19666</th>\n",
       "      <td>ns5476</td>\n",
       "      <td>hasan minhaj: homecoming king</td>\n",
       "      <td>3.6</td>\n",
       "      <td>3.796603</td>\n",
       "    </tr>\n",
       "    <tr>\n",
       "      <th>2090</th>\n",
       "      <td>as641</td>\n",
       "      <td>the gospel live</td>\n",
       "      <td>3.6</td>\n",
       "      <td>3.794496</td>\n",
       "    </tr>\n",
       "    <tr>\n",
       "      <th>5684</th>\n",
       "      <td>as4235</td>\n",
       "      <td>seagulls</td>\n",
       "      <td>3.5</td>\n",
       "      <td>3.775770</td>\n",
       "    </tr>\n",
       "    <tr>\n",
       "      <th>14534</th>\n",
       "      <td>ns344</td>\n",
       "      <td>my girl</td>\n",
       "      <td>3.5</td>\n",
       "      <td>3.774064</td>\n",
       "    </tr>\n",
       "  </tbody>\n",
       "</table>\n",
       "</div>"
      ],
      "text/plain": [
       "           id                          title  score  ScoreEstimado\n",
       "14471   ns281                     bake squad    3.6       3.811629\n",
       "19666  ns5476  hasan minhaj: homecoming king    3.6       3.796603\n",
       "2090    as641                the gospel live    3.6       3.794496\n",
       "5684   as4235                       seagulls    3.5       3.775770\n",
       "14534   ns344                        my girl    3.5       3.774064"
      ]
     },
     "execution_count": 49,
     "metadata": {},
     "output_type": "execute_result"
    }
   ],
   "source": [
    "data_recomendaciones_posibles.sort_values('ScoreEstimado', ascending = False, inplace=True)\n",
    "data_recomendaciones_posibles.head()"
   ]
  },
  {
   "attachments": {},
   "cell_type": "markdown",
   "metadata": {},
   "source": [
    "Ahora vamos a exportar nuestro modelo ya entrenado, evaluado y optimizado, para crear una aplicación que muestre las predicciones en una interfaz amigable.\n",
    "\n",
    "Casi terminamos!"
   ]
  },
  {
   "cell_type": "code",
   "execution_count": 52,
   "metadata": {},
   "outputs": [
    {
     "data": {
      "text/plain": [
       "['./datasets_parciales/modelo_recomendaciones_entrenado.pkl']"
      ]
     },
     "execution_count": 52,
     "metadata": {},
     "output_type": "execute_result"
    }
   ],
   "source": [
    "#guardo el modelo!\n",
    "joblib.dump(modelo_mejor_evaluado, './datasets_parciales/modelo_recomendaciones_entrenado.pkl')"
   ]
  }
 ],
 "metadata": {
  "kernelspec": {
   "display_name": "Individual_1",
   "language": "python",
   "name": "python3"
  },
  "language_info": {
   "codemirror_mode": {
    "name": "ipython",
    "version": 3
   },
   "file_extension": ".py",
   "mimetype": "text/x-python",
   "name": "python",
   "nbconvert_exporter": "python",
   "pygments_lexer": "ipython3",
   "version": "3.8.10"
  },
  "orig_nbformat": 4,
  "vscode": {
   "interpreter": {
    "hash": "72ef3110647d6d21139397a9366e505ecd09c8d48c6eb892e5210211c2acfa05"
   }
  }
 },
 "nbformat": 4,
 "nbformat_minor": 2
}
