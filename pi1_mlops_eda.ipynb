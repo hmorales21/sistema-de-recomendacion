{
 "cells": [
  {
   "attachments": {},
   "cell_type": "markdown",
   "metadata": {},
   "source": [
    "<img src=\"./scr/pi1_mlops_data_header.png\">"
   ]
  },
  {
   "cell_type": "code",
   "execution_count": 7,
   "metadata": {},
   "outputs": [],
   "source": [
    "import pandas as pd\n",
    "import numpy as np\n",
    "import seaborn as sns\n",
    "import matplotlib.pyplot as plt\n",
    "import gc"
   ]
  },
  {
   "attachments": {},
   "cell_type": "markdown",
   "metadata": {},
   "source": [
    "<p>Preparacion de los datos.</p>\n",
    "Ahora que tenemos integrada nuestro dataset, y disponible para consulta. Necesitamos prepararlos para que sean útiles para el sistema de recomendación. Para ello vamos vamos a integrarlos en un solo archivo, "
   ]
  },
  {
   "cell_type": "code",
   "execution_count": 8,
   "metadata": {},
   "outputs": [],
   "source": [
    "#leemos el archivo de ratings\n",
    "data_users = pd.read_parquet('./datasets_parciales/ratings_final.parquet')"
   ]
  },
  {
   "cell_type": "code",
   "execution_count": 9,
   "metadata": {},
   "outputs": [],
   "source": [
    "#asignamos tipos para mejorar el rendimiento en memoria\n",
    "data_users['timestamp'] = data_users['timestamp'].astype('datetime64')"
   ]
  },
  {
   "cell_type": "code",
   "execution_count": 10,
   "metadata": {},
   "outputs": [
    {
     "name": "stdout",
     "output_type": "stream",
     "text": [
      "<class 'pandas.core.frame.DataFrame'>\n",
      "Int64Index: 11024289 entries, 0 to 1499999\n",
      "Data columns (total 4 columns):\n",
      " #   Column     Dtype         \n",
      "---  ------     -----         \n",
      " 0   userId     int64         \n",
      " 1   rating     float64       \n",
      " 2   timestamp  datetime64[ns]\n",
      " 3   movieId    object        \n",
      "dtypes: datetime64[ns](1), float64(1), int64(1), object(1)\n",
      "memory usage: 420.5+ MB\n"
     ]
    }
   ],
   "source": [
    "data_users.info()"
   ]
  },
  {
   "cell_type": "code",
   "execution_count": 12,
   "metadata": {},
   "outputs": [
    {
     "data": {
      "text/html": [
       "<div>\n",
       "<style scoped>\n",
       "    .dataframe tbody tr th:only-of-type {\n",
       "        vertical-align: middle;\n",
       "    }\n",
       "\n",
       "    .dataframe tbody tr th {\n",
       "        vertical-align: top;\n",
       "    }\n",
       "\n",
       "    .dataframe thead th {\n",
       "        text-align: right;\n",
       "    }\n",
       "</style>\n",
       "<table border=\"1\" class=\"dataframe\">\n",
       "  <thead>\n",
       "    <tr style=\"text-align: right;\">\n",
       "      <th></th>\n",
       "      <th>userId</th>\n",
       "      <th>rating</th>\n",
       "      <th>timestamp</th>\n",
       "      <th>movieId</th>\n",
       "    </tr>\n",
       "  </thead>\n",
       "  <tbody>\n",
       "    <tr>\n",
       "      <th>0</th>\n",
       "      <td>249182</td>\n",
       "      <td>3.5</td>\n",
       "      <td>2016-04-12</td>\n",
       "      <td>ds327</td>\n",
       "    </tr>\n",
       "    <tr>\n",
       "      <th>1</th>\n",
       "      <td>249182</td>\n",
       "      <td>4.0</td>\n",
       "      <td>2016-04-28</td>\n",
       "      <td>ns2124</td>\n",
       "    </tr>\n",
       "    <tr>\n",
       "      <th>2</th>\n",
       "      <td>249182</td>\n",
       "      <td>3.0</td>\n",
       "      <td>2016-04-09</td>\n",
       "      <td>as8841</td>\n",
       "    </tr>\n",
       "    <tr>\n",
       "      <th>3</th>\n",
       "      <td>249182</td>\n",
       "      <td>4.5</td>\n",
       "      <td>2016-04-09</td>\n",
       "      <td>hs2318</td>\n",
       "    </tr>\n",
       "    <tr>\n",
       "      <th>4</th>\n",
       "      <td>249182</td>\n",
       "      <td>2.5</td>\n",
       "      <td>2016-04-09</td>\n",
       "      <td>as5743</td>\n",
       "    </tr>\n",
       "  </tbody>\n",
       "</table>\n",
       "</div>"
      ],
      "text/plain": [
       "   userId  rating  timestamp movieId\n",
       "0  249182     3.5 2016-04-12   ds327\n",
       "1  249182     4.0 2016-04-28  ns2124\n",
       "2  249182     3.0 2016-04-09  as8841\n",
       "3  249182     4.5 2016-04-09  hs2318\n",
       "4  249182     2.5 2016-04-09  as5743"
      ]
     },
     "execution_count": 12,
     "metadata": {},
     "output_type": "execute_result"
    }
   ],
   "source": [
    "#data_users.drop('Unnamed: 0',inplace=True, axis=1)\n",
    "data_users.head()"
   ]
  },
  {
   "cell_type": "code",
   "execution_count": 13,
   "metadata": {},
   "outputs": [
    {
     "name": "stdout",
     "output_type": "stream",
     "text": [
      "115077\n"
     ]
    }
   ],
   "source": [
    "#cuántos usuarios únicos hay?\n",
    "print(len(data_users['userId'].unique()))"
   ]
  },
  {
   "attachments": {},
   "cell_type": "markdown",
   "metadata": {},
   "source": [
    "Vamos a cargar el archivo de películas por plataforma."
   ]
  },
  {
   "cell_type": "code",
   "execution_count": 14,
   "metadata": {},
   "outputs": [],
   "source": [
    "#lee el archivo de títulos\n",
    "data_movies = pd.read_csv('./datasets_parciales/titles_total.csv')"
   ]
  },
  {
   "cell_type": "code",
   "execution_count": 15,
   "metadata": {},
   "outputs": [
    {
     "name": "stdout",
     "output_type": "stream",
     "text": [
      "<class 'pandas.core.frame.DataFrame'>\n",
      "RangeIndex: 22998 entries, 0 to 22997\n",
      "Data columns (total 14 columns):\n",
      " #   Column          Non-Null Count  Dtype  \n",
      "---  ------          --------------  -----  \n",
      " 0   type            22998 non-null  object \n",
      " 1   title           22998 non-null  object \n",
      " 2   director        14739 non-null  object \n",
      " 3   cast            22998 non-null  object \n",
      " 4   country         11499 non-null  object \n",
      " 5   release_year    22998 non-null  int64  \n",
      " 6   rating          22998 non-null  object \n",
      " 7   listed_in       22998 non-null  object \n",
      " 8   description     22994 non-null  object \n",
      " 9   id              22998 non-null  object \n",
      " 10  date_added_std  13444 non-null  object \n",
      " 11  duration_int    22998 non-null  int64  \n",
      " 12  duration_type   22516 non-null  object \n",
      " 13  score           22998 non-null  float64\n",
      "dtypes: float64(1), int64(2), object(11)\n",
      "memory usage: 2.5+ MB\n"
     ]
    }
   ],
   "source": [
    "#observamos el tamaño del archivo\n",
    "data_movies.drop('Unnamed: 0',inplace=True, axis=1)\n",
    "data_movies.info()"
   ]
  },
  {
   "cell_type": "code",
   "execution_count": 16,
   "metadata": {},
   "outputs": [
    {
     "data": {
      "text/html": [
       "<div>\n",
       "<style scoped>\n",
       "    .dataframe tbody tr th:only-of-type {\n",
       "        vertical-align: middle;\n",
       "    }\n",
       "\n",
       "    .dataframe tbody tr th {\n",
       "        vertical-align: top;\n",
       "    }\n",
       "\n",
       "    .dataframe thead th {\n",
       "        text-align: right;\n",
       "    }\n",
       "</style>\n",
       "<table border=\"1\" class=\"dataframe\">\n",
       "  <thead>\n",
       "    <tr style=\"text-align: right;\">\n",
       "      <th></th>\n",
       "      <th>type</th>\n",
       "      <th>title</th>\n",
       "      <th>director</th>\n",
       "      <th>cast</th>\n",
       "      <th>country</th>\n",
       "      <th>release_year</th>\n",
       "      <th>rating</th>\n",
       "      <th>listed_in</th>\n",
       "      <th>description</th>\n",
       "      <th>id</th>\n",
       "      <th>date_added_std</th>\n",
       "      <th>duration_int</th>\n",
       "      <th>duration_type</th>\n",
       "      <th>score</th>\n",
       "    </tr>\n",
       "  </thead>\n",
       "  <tbody>\n",
       "    <tr>\n",
       "      <th>0</th>\n",
       "      <td>movie</td>\n",
       "      <td>duck the halls: a mickey mouse christmas special</td>\n",
       "      <td>alonso ramirez ramos, dave wasson</td>\n",
       "      <td>chris diamantopoulos, tony anselmo, tress macn...</td>\n",
       "      <td>NaN</td>\n",
       "      <td>2016</td>\n",
       "      <td>tv-g</td>\n",
       "      <td>animation, family</td>\n",
       "      <td>join mickey and the gang as they duck the halls!</td>\n",
       "      <td>ds1</td>\n",
       "      <td>2021-11-26</td>\n",
       "      <td>23</td>\n",
       "      <td>min</td>\n",
       "      <td>3.6</td>\n",
       "    </tr>\n",
       "    <tr>\n",
       "      <th>1</th>\n",
       "      <td>movie</td>\n",
       "      <td>ernest saves christmas</td>\n",
       "      <td>john cherry</td>\n",
       "      <td>jim varney, noelle parker, douglas seale</td>\n",
       "      <td>NaN</td>\n",
       "      <td>1988</td>\n",
       "      <td>pg</td>\n",
       "      <td>comedy</td>\n",
       "      <td>santa claus passes his magic bag to a new st. ...</td>\n",
       "      <td>ds2</td>\n",
       "      <td>2021-11-26</td>\n",
       "      <td>91</td>\n",
       "      <td>min</td>\n",
       "      <td>3.5</td>\n",
       "    </tr>\n",
       "    <tr>\n",
       "      <th>2</th>\n",
       "      <td>movie</td>\n",
       "      <td>ice age: a mammoth christmas</td>\n",
       "      <td>karen disher</td>\n",
       "      <td>raymond albert romano, john leguizamo, denis l...</td>\n",
       "      <td>united states</td>\n",
       "      <td>2011</td>\n",
       "      <td>tv-g</td>\n",
       "      <td>animation, comedy, family</td>\n",
       "      <td>sid the sloth is on santa's naughty list.</td>\n",
       "      <td>ds3</td>\n",
       "      <td>2021-11-26</td>\n",
       "      <td>23</td>\n",
       "      <td>min</td>\n",
       "      <td>3.6</td>\n",
       "    </tr>\n",
       "    <tr>\n",
       "      <th>3</th>\n",
       "      <td>movie</td>\n",
       "      <td>the queen family singalong</td>\n",
       "      <td>hamish hamilton</td>\n",
       "      <td>darren criss, adam lambert, derek hough, alexa...</td>\n",
       "      <td>NaN</td>\n",
       "      <td>2021</td>\n",
       "      <td>tv-pg</td>\n",
       "      <td>musical</td>\n",
       "      <td>this is real life, not just fantasy!</td>\n",
       "      <td>ds4</td>\n",
       "      <td>2021-11-26</td>\n",
       "      <td>41</td>\n",
       "      <td>min</td>\n",
       "      <td>3.5</td>\n",
       "    </tr>\n",
       "    <tr>\n",
       "      <th>4</th>\n",
       "      <td>tv show</td>\n",
       "      <td>the beatles: get back</td>\n",
       "      <td>NaN</td>\n",
       "      <td>john lennon, paul mccartney, george harrison, ...</td>\n",
       "      <td>NaN</td>\n",
       "      <td>2021</td>\n",
       "      <td>g</td>\n",
       "      <td>docuseries, historical, music</td>\n",
       "      <td>a three-part documentary from peter jackson ca...</td>\n",
       "      <td>ds5</td>\n",
       "      <td>2021-11-25</td>\n",
       "      <td>1</td>\n",
       "      <td>season</td>\n",
       "      <td>3.5</td>\n",
       "    </tr>\n",
       "  </tbody>\n",
       "</table>\n",
       "</div>"
      ],
      "text/plain": [
       "      type                                             title  \\\n",
       "0    movie  duck the halls: a mickey mouse christmas special   \n",
       "1    movie                            ernest saves christmas   \n",
       "2    movie                      ice age: a mammoth christmas   \n",
       "3    movie                        the queen family singalong   \n",
       "4  tv show                             the beatles: get back   \n",
       "\n",
       "                            director  \\\n",
       "0  alonso ramirez ramos, dave wasson   \n",
       "1                        john cherry   \n",
       "2                       karen disher   \n",
       "3                    hamish hamilton   \n",
       "4                                NaN   \n",
       "\n",
       "                                                cast        country  \\\n",
       "0  chris diamantopoulos, tony anselmo, tress macn...            NaN   \n",
       "1           jim varney, noelle parker, douglas seale            NaN   \n",
       "2  raymond albert romano, john leguizamo, denis l...  united states   \n",
       "3  darren criss, adam lambert, derek hough, alexa...            NaN   \n",
       "4  john lennon, paul mccartney, george harrison, ...            NaN   \n",
       "\n",
       "   release_year rating                      listed_in  \\\n",
       "0          2016   tv-g              animation, family   \n",
       "1          1988     pg                         comedy   \n",
       "2          2011   tv-g      animation, comedy, family   \n",
       "3          2021  tv-pg                        musical   \n",
       "4          2021      g  docuseries, historical, music   \n",
       "\n",
       "                                         description   id date_added_std  \\\n",
       "0   join mickey and the gang as they duck the halls!  ds1     2021-11-26   \n",
       "1  santa claus passes his magic bag to a new st. ...  ds2     2021-11-26   \n",
       "2          sid the sloth is on santa's naughty list.  ds3     2021-11-26   \n",
       "3               this is real life, not just fantasy!  ds4     2021-11-26   \n",
       "4  a three-part documentary from peter jackson ca...  ds5     2021-11-25   \n",
       "\n",
       "   duration_int duration_type  score  \n",
       "0            23           min    3.6  \n",
       "1            91           min    3.5  \n",
       "2            23           min    3.6  \n",
       "3            41           min    3.5  \n",
       "4             1        season    3.5  "
      ]
     },
     "execution_count": 16,
     "metadata": {},
     "output_type": "execute_result"
    }
   ],
   "source": [
    "data_movies.head()"
   ]
  },
  {
   "attachments": {},
   "cell_type": "markdown",
   "metadata": {},
   "source": [
    "Empezamos a analizar la existencia de datos nulos o inconsistentes, que nos impidan realizar una recomendación adecuada"
   ]
  },
  {
   "cell_type": "code",
   "execution_count": 17,
   "metadata": {},
   "outputs": [
    {
     "data": {
      "text/plain": [
       "type                  0\n",
       "title                 0\n",
       "director           8259\n",
       "cast                  0\n",
       "country           11499\n",
       "release_year          0\n",
       "rating                0\n",
       "listed_in             0\n",
       "description           4\n",
       "id                    0\n",
       "date_added_std     9554\n",
       "duration_int          0\n",
       "duration_type       482\n",
       "score                 0\n",
       "dtype: int64"
      ]
     },
     "execution_count": 17,
     "metadata": {},
     "output_type": "execute_result"
    }
   ],
   "source": [
    "data_movies.isnull().sum()"
   ]
  },
  {
   "attachments": {},
   "cell_type": "markdown",
   "metadata": {},
   "source": [
    "Podemos observar una gran cantidad de datos nulos en los campos director, country, date_add, porlo que no resultarían buenos candidatos para determinar el gusto de un usuario por una película en particular.\n",
    "\n",
    "Una vez concluido lo anterior, revisaremos la consistencia del resto de los campos a efecto de encontrar candidatos que influyan en la predicción."
   ]
  },
  {
   "cell_type": "code",
   "execution_count": 18,
   "metadata": {},
   "outputs": [
    {
     "data": {
      "text/plain": [
       "3.5    13564\n",
       "3.6     8269\n",
       "3.4      976\n",
       "3.7      185\n",
       "3.3        4\n",
       "Name: score, dtype: int64"
      ]
     },
     "execution_count": 18,
     "metadata": {},
     "output_type": "execute_result"
    }
   ],
   "source": [
    "##observamos el universo de valores de la variable score\n",
    "data_movies['score'].value_counts()"
   ]
  },
  {
   "cell_type": "code",
   "execution_count": 19,
   "metadata": {},
   "outputs": [
    {
     "name": "stdout",
     "output_type": "stream",
     "text": [
      "5576    pale blue moon\n",
      "Name: title, dtype: object\n"
     ]
    }
   ],
   "source": [
    "#data_movies[data_movies['id']=='as4127']\n",
    "print(data_movies.loc[data_movies['id']=='as4127']['title'].str.strip())"
   ]
  },
  {
   "attachments": {},
   "cell_type": "markdown",
   "metadata": {},
   "source": [
    "Vamos a revisar las calificaciones de las películas por usuario, recordemos que son 115,077 usuarios diferentes"
   ]
  },
  {
   "cell_type": "code",
   "execution_count": 20,
   "metadata": {},
   "outputs": [
    {
     "data": {
      "text/html": [
       "<div>\n",
       "<style scoped>\n",
       "    .dataframe tbody tr th:only-of-type {\n",
       "        vertical-align: middle;\n",
       "    }\n",
       "\n",
       "    .dataframe tbody tr th {\n",
       "        vertical-align: top;\n",
       "    }\n",
       "\n",
       "    .dataframe thead th {\n",
       "        text-align: right;\n",
       "    }\n",
       "</style>\n",
       "<table border=\"1\" class=\"dataframe\">\n",
       "  <thead>\n",
       "    <tr style=\"text-align: right;\">\n",
       "      <th></th>\n",
       "      <th>rating</th>\n",
       "      <th>timestamp</th>\n",
       "      <th>movieId</th>\n",
       "    </tr>\n",
       "    <tr>\n",
       "      <th>userId</th>\n",
       "      <th></th>\n",
       "      <th></th>\n",
       "      <th></th>\n",
       "    </tr>\n",
       "  </thead>\n",
       "  <tbody>\n",
       "    <tr>\n",
       "      <th>45811</th>\n",
       "      <td>18276</td>\n",
       "      <td>18276</td>\n",
       "      <td>18276</td>\n",
       "    </tr>\n",
       "    <tr>\n",
       "      <th>8659</th>\n",
       "      <td>9279</td>\n",
       "      <td>9279</td>\n",
       "      <td>9279</td>\n",
       "    </tr>\n",
       "    <tr>\n",
       "      <th>270123</th>\n",
       "      <td>7638</td>\n",
       "      <td>7638</td>\n",
       "      <td>7638</td>\n",
       "    </tr>\n",
       "    <tr>\n",
       "      <th>70648</th>\n",
       "      <td>5356</td>\n",
       "      <td>5356</td>\n",
       "      <td>5356</td>\n",
       "    </tr>\n",
       "    <tr>\n",
       "      <th>24025</th>\n",
       "      <td>4946</td>\n",
       "      <td>4946</td>\n",
       "      <td>4946</td>\n",
       "    </tr>\n",
       "  </tbody>\n",
       "</table>\n",
       "</div>"
      ],
      "text/plain": [
       "        rating  timestamp  movieId\n",
       "userId                            \n",
       "45811    18276      18276    18276\n",
       "8659      9279       9279     9279\n",
       "270123    7638       7638     7638\n",
       "70648     5356       5356     5356\n",
       "24025     4946       4946     4946"
      ]
     },
     "execution_count": 20,
     "metadata": {},
     "output_type": "execute_result"
    }
   ],
   "source": [
    "data_by_users = data_users.groupby(['userId']).count().sort_values(by='rating',ascending = False)\n",
    "data_by_users.head()"
   ]
  },
  {
   "cell_type": "code",
   "execution_count": 51,
   "metadata": {},
   "outputs": [
    {
     "data": {
      "text/plain": [
       "(115077, 3)"
      ]
     },
     "execution_count": 51,
     "metadata": {},
     "output_type": "execute_result"
    }
   ],
   "source": [
    "data_by_users.shape"
   ]
  },
  {
   "cell_type": "code",
   "execution_count": 21,
   "metadata": {},
   "outputs": [
    {
     "data": {
      "image/png": "[encoded data removed]",
      "text/plain": [
       "<Figure size 1080x3600 with 2 Axes>"
      ]
     },
     "metadata": {
      "needs_background": "light"
     },
     "output_type": "display_data"
    }
   ],
   "source": [
    "plt.figure(figsize=(15,50))\n",
    "\n",
    "plt.subplot(15,2,1)\n",
    "plt.hist(data_by_users.rating, log= True)\n",
    "plt.title('Calificaciones por usuario')\n",
    "\n",
    "plt.subplot(15,2,2)\n",
    "data_users['rating'].hist()\n",
    "plt.title('Distribución de calificaciones')\n",
    "plt.show()"
   ]
  },
  {
   "cell_type": "code",
   "execution_count": 22,
   "metadata": {},
   "outputs": [
    {
     "name": "stdout",
     "output_type": "stream",
     "text": [
      "Película con mas calificaciones : \n",
      "5646    from other worlds\n",
      "Name: title, dtype: object\n",
      "Película con menos calificaciones : \n",
      "6389    mitzi (nbc 1968)\n",
      "Name: title, dtype: object\n"
     ]
    }
   ],
   "source": [
    "#qué película es la que mas calificaciones tiene y cuál es la que menos tiene?\n",
    "data_by_movies = data_users.groupby(['movieId']).count()\n",
    "#data_by_movies.head()\n",
    "idx_max = data_by_movies['userId'].idxmax()\n",
    "print('Película con mas calificaciones : ')\n",
    "print(data_movies.loc[data_movies['id']==idx_max].title)\n",
    "idx_min = data_by_movies['userId'].idxmin()\n",
    "print('Película con menos calificaciones : ')\n",
    "print(data_movies.loc[data_movies['id']==idx_min].title)"
   ]
  },
  {
   "cell_type": "code",
   "execution_count": 23,
   "metadata": {},
   "outputs": [
    {
     "data": {
      "text/html": [
       "<div>\n",
       "<style scoped>\n",
       "    .dataframe tbody tr th:only-of-type {\n",
       "        vertical-align: middle;\n",
       "    }\n",
       "\n",
       "    .dataframe tbody tr th {\n",
       "        vertical-align: top;\n",
       "    }\n",
       "\n",
       "    .dataframe thead th {\n",
       "        text-align: right;\n",
       "    }\n",
       "</style>\n",
       "<table border=\"1\" class=\"dataframe\">\n",
       "  <thead>\n",
       "    <tr style=\"text-align: right;\">\n",
       "      <th></th>\n",
       "      <th>userId</th>\n",
       "      <th>rating</th>\n",
       "      <th>timestamp</th>\n",
       "    </tr>\n",
       "    <tr>\n",
       "      <th>movieId</th>\n",
       "      <th></th>\n",
       "      <th></th>\n",
       "      <th></th>\n",
       "    </tr>\n",
       "  </thead>\n",
       "  <tbody>\n",
       "    <tr>\n",
       "      <th>ns8168</th>\n",
       "      <td>108</td>\n",
       "      <td>108</td>\n",
       "      <td>108</td>\n",
       "    </tr>\n",
       "    <tr>\n",
       "      <th>as5312</th>\n",
       "      <td>107</td>\n",
       "      <td>107</td>\n",
       "      <td>107</td>\n",
       "    </tr>\n",
       "    <tr>\n",
       "      <th>as7644</th>\n",
       "      <td>104</td>\n",
       "      <td>104</td>\n",
       "      <td>104</td>\n",
       "    </tr>\n",
       "    <tr>\n",
       "      <th>as7249</th>\n",
       "      <td>104</td>\n",
       "      <td>104</td>\n",
       "      <td>104</td>\n",
       "    </tr>\n",
       "    <tr>\n",
       "      <th>as2553</th>\n",
       "      <td>102</td>\n",
       "      <td>102</td>\n",
       "      <td>102</td>\n",
       "    </tr>\n",
       "  </tbody>\n",
       "</table>\n",
       "</div>"
      ],
      "text/plain": [
       "         userId  rating  timestamp\n",
       "movieId                           \n",
       "ns8168      108     108        108\n",
       "as5312      107     107        107\n",
       "as7644      104     104        104\n",
       "as7249      104     104        104\n",
       "as2553      102     102        102"
      ]
     },
     "execution_count": 23,
     "metadata": {},
     "output_type": "execute_result"
    }
   ],
   "source": [
    "#Vamos a mostrar las películas por popularidad\n",
    "#primero sacamos un conteo de movieId de las películas mas valoradas con 5.0\n",
    "data_mas_valoradas = data_users[data_users['rating']==5.0].groupby('movieId').count().sort_values(by='userId',ascending=False)\n",
    "data_mas_valoradas.head()"
   ]
  },
  {
   "cell_type": "code",
   "execution_count": 24,
   "metadata": {},
   "outputs": [
    {
     "data": {
      "text/plain": [
       "Index(['ns8168', 'as5312', 'as7644', 'as7249', 'as2553', 'ns7296', 'ds199',\n",
       "       'hs1007', 'ns7987', 'as8275',\n",
       "       ...\n",
       "       'ds994', 'as9059', 'as8885', 'as8266', 'ns6045', 'as8336', 'ns8250',\n",
       "       'ds978', 'as7617', 'ns3618'],\n",
       "      dtype='object', name='movieId', length=22998)"
      ]
     },
     "execution_count": 24,
     "metadata": {},
     "output_type": "execute_result"
    }
   ],
   "source": [
    "data_mas_valoradas.index"
   ]
  },
  {
   "cell_type": "code",
   "execution_count": 25,
   "metadata": {},
   "outputs": [
    {
     "data": {
      "text/html": [
       "<div>\n",
       "<style scoped>\n",
       "    .dataframe tbody tr th:only-of-type {\n",
       "        vertical-align: middle;\n",
       "    }\n",
       "\n",
       "    .dataframe tbody tr th {\n",
       "        vertical-align: top;\n",
       "    }\n",
       "\n",
       "    .dataframe thead th {\n",
       "        text-align: right;\n",
       "    }\n",
       "</style>\n",
       "<table border=\"1\" class=\"dataframe\">\n",
       "  <thead>\n",
       "    <tr style=\"text-align: right;\">\n",
       "      <th></th>\n",
       "      <th>userId</th>\n",
       "      <th>rating</th>\n",
       "      <th>timestamp</th>\n",
       "    </tr>\n",
       "    <tr>\n",
       "      <th>movieId</th>\n",
       "      <th></th>\n",
       "      <th></th>\n",
       "      <th></th>\n",
       "    </tr>\n",
       "  </thead>\n",
       "  <tbody>\n",
       "    <tr>\n",
       "      <th>ns8168</th>\n",
       "      <td>108</td>\n",
       "      <td>108</td>\n",
       "      <td>108</td>\n",
       "    </tr>\n",
       "    <tr>\n",
       "      <th>as5312</th>\n",
       "      <td>107</td>\n",
       "      <td>107</td>\n",
       "      <td>107</td>\n",
       "    </tr>\n",
       "    <tr>\n",
       "      <th>as7644</th>\n",
       "      <td>104</td>\n",
       "      <td>104</td>\n",
       "      <td>104</td>\n",
       "    </tr>\n",
       "    <tr>\n",
       "      <th>as7249</th>\n",
       "      <td>104</td>\n",
       "      <td>104</td>\n",
       "      <td>104</td>\n",
       "    </tr>\n",
       "    <tr>\n",
       "      <th>as2553</th>\n",
       "      <td>102</td>\n",
       "      <td>102</td>\n",
       "      <td>102</td>\n",
       "    </tr>\n",
       "    <tr>\n",
       "      <th>...</th>\n",
       "      <td>...</td>\n",
       "      <td>...</td>\n",
       "      <td>...</td>\n",
       "    </tr>\n",
       "    <tr>\n",
       "      <th>as8336</th>\n",
       "      <td>43</td>\n",
       "      <td>43</td>\n",
       "      <td>43</td>\n",
       "    </tr>\n",
       "    <tr>\n",
       "      <th>ns8250</th>\n",
       "      <td>43</td>\n",
       "      <td>43</td>\n",
       "      <td>43</td>\n",
       "    </tr>\n",
       "    <tr>\n",
       "      <th>ds978</th>\n",
       "      <td>43</td>\n",
       "      <td>43</td>\n",
       "      <td>43</td>\n",
       "    </tr>\n",
       "    <tr>\n",
       "      <th>as7617</th>\n",
       "      <td>41</td>\n",
       "      <td>41</td>\n",
       "      <td>41</td>\n",
       "    </tr>\n",
       "    <tr>\n",
       "      <th>ns3618</th>\n",
       "      <td>39</td>\n",
       "      <td>39</td>\n",
       "      <td>39</td>\n",
       "    </tr>\n",
       "  </tbody>\n",
       "</table>\n",
       "<p>22998 rows × 3 columns</p>\n",
       "</div>"
      ],
      "text/plain": [
       "         userId  rating  timestamp\n",
       "movieId                           \n",
       "ns8168      108     108        108\n",
       "as5312      107     107        107\n",
       "as7644      104     104        104\n",
       "as7249      104     104        104\n",
       "as2553      102     102        102\n",
       "...         ...     ...        ...\n",
       "as8336       43      43         43\n",
       "ns8250       43      43         43\n",
       "ds978        43      43         43\n",
       "as7617       41      41         41\n",
       "ns3618       39      39         39\n",
       "\n",
       "[22998 rows x 3 columns]"
      ]
     },
     "execution_count": 25,
     "metadata": {},
     "output_type": "execute_result"
    }
   ],
   "source": [
    "data_mas_valoradas"
   ]
  },
  {
   "cell_type": "code",
   "execution_count": 26,
   "metadata": {},
   "outputs": [
    {
     "data": {
      "text/html": [
       "<div>\n",
       "<style scoped>\n",
       "    .dataframe tbody tr th:only-of-type {\n",
       "        vertical-align: middle;\n",
       "    }\n",
       "\n",
       "    .dataframe tbody tr th {\n",
       "        vertical-align: top;\n",
       "    }\n",
       "\n",
       "    .dataframe thead th {\n",
       "        text-align: right;\n",
       "    }\n",
       "</style>\n",
       "<table border=\"1\" class=\"dataframe\">\n",
       "  <thead>\n",
       "    <tr style=\"text-align: right;\">\n",
       "      <th></th>\n",
       "      <th>valoraciones</th>\n",
       "      <th>id</th>\n",
       "      <th>title</th>\n",
       "    </tr>\n",
       "  </thead>\n",
       "  <tbody>\n",
       "    <tr>\n",
       "      <th>0</th>\n",
       "      <td>108</td>\n",
       "      <td>ns8168</td>\n",
       "      <td>terminator salvation</td>\n",
       "    </tr>\n",
       "    <tr>\n",
       "      <th>1</th>\n",
       "      <td>107</td>\n",
       "      <td>as5312</td>\n",
       "      <td>vivarium</td>\n",
       "    </tr>\n",
       "    <tr>\n",
       "      <th>2</th>\n",
       "      <td>104</td>\n",
       "      <td>as7644</td>\n",
       "      <td>born kicking</td>\n",
       "    </tr>\n",
       "    <tr>\n",
       "      <th>3</th>\n",
       "      <td>104</td>\n",
       "      <td>as7249</td>\n",
       "      <td>49-o</td>\n",
       "    </tr>\n",
       "    <tr>\n",
       "      <th>4</th>\n",
       "      <td>102</td>\n",
       "      <td>as2553</td>\n",
       "      <td>enchantimals</td>\n",
       "    </tr>\n",
       "  </tbody>\n",
       "</table>\n",
       "</div>"
      ],
      "text/plain": [
       "   valoraciones      id                 title\n",
       "0           108  ns8168  terminator salvation\n",
       "1           107  as5312              vivarium\n",
       "2           104  as7644          born kicking\n",
       "3           104  as7249                  49-o\n",
       "4           102  as2553          enchantimals"
      ]
     },
     "execution_count": 26,
     "metadata": {},
     "output_type": "execute_result"
    }
   ],
   "source": [
    "#borramos las columnas que no necesitamos\n",
    "data_mas_valoradas.drop(['userId','timestamp'],axis=1,inplace=True)\n",
    "#renombramos la columna para mejor lectura\n",
    "data_mas_valoradas.rename(columns = {'rating':'valoraciones'}, inplace=True)\n",
    "#ahora le pegamos el título de la película desdes data_movies y graficamos\n",
    "\n",
    "data_mas_valoradas = pd.merge(left=data_mas_valoradas,right=data_movies[['id','title']], how='left', left_on=data_mas_valoradas.index, right_on='id')\n",
    "data_mas_valoradas.head()"
   ]
  },
  {
   "cell_type": "code",
   "execution_count": 27,
   "metadata": {},
   "outputs": [
    {
     "data": {
      "text/html": [
       "<div>\n",
       "<style scoped>\n",
       "    .dataframe tbody tr th:only-of-type {\n",
       "        vertical-align: middle;\n",
       "    }\n",
       "\n",
       "    .dataframe tbody tr th {\n",
       "        vertical-align: top;\n",
       "    }\n",
       "\n",
       "    .dataframe thead th {\n",
       "        text-align: right;\n",
       "    }\n",
       "</style>\n",
       "<table border=\"1\" class=\"dataframe\">\n",
       "  <thead>\n",
       "    <tr style=\"text-align: right;\">\n",
       "      <th></th>\n",
       "      <th>valoraciones</th>\n",
       "      <th>id</th>\n",
       "      <th>title</th>\n",
       "    </tr>\n",
       "  </thead>\n",
       "  <tbody>\n",
       "    <tr>\n",
       "      <th>22978</th>\n",
       "      <td>46</td>\n",
       "      <td>as2036</td>\n",
       "      <td>jeremiah</td>\n",
       "    </tr>\n",
       "    <tr>\n",
       "      <th>22979</th>\n",
       "      <td>46</td>\n",
       "      <td>as3248</td>\n",
       "      <td>animal babies: first year on earth</td>\n",
       "    </tr>\n",
       "    <tr>\n",
       "      <th>22980</th>\n",
       "      <td>46</td>\n",
       "      <td>as2128</td>\n",
       "      <td>ilana glazer: the planet is burning</td>\n",
       "    </tr>\n",
       "    <tr>\n",
       "      <th>22981</th>\n",
       "      <td>46</td>\n",
       "      <td>ns7700</td>\n",
       "      <td>palio</td>\n",
       "    </tr>\n",
       "    <tr>\n",
       "      <th>22982</th>\n",
       "      <td>46</td>\n",
       "      <td>as38</td>\n",
       "      <td>you, me and him</td>\n",
       "    </tr>\n",
       "    <tr>\n",
       "      <th>22983</th>\n",
       "      <td>46</td>\n",
       "      <td>ns8788</td>\n",
       "      <td>you can’t fight christmas</td>\n",
       "    </tr>\n",
       "    <tr>\n",
       "      <th>22984</th>\n",
       "      <td>46</td>\n",
       "      <td>as8244</td>\n",
       "      <td>the omen</td>\n",
       "    </tr>\n",
       "    <tr>\n",
       "      <th>22985</th>\n",
       "      <td>46</td>\n",
       "      <td>ns7909</td>\n",
       "      <td>russell peters vs. the world</td>\n",
       "    </tr>\n",
       "    <tr>\n",
       "      <th>22986</th>\n",
       "      <td>45</td>\n",
       "      <td>as167</td>\n",
       "      <td>waiting for lightning</td>\n",
       "    </tr>\n",
       "    <tr>\n",
       "      <th>22987</th>\n",
       "      <td>45</td>\n",
       "      <td>hs757</td>\n",
       "      <td>the indian in the cupboard</td>\n",
       "    </tr>\n",
       "    <tr>\n",
       "      <th>22988</th>\n",
       "      <td>44</td>\n",
       "      <td>ds994</td>\n",
       "      <td>kitbull</td>\n",
       "    </tr>\n",
       "    <tr>\n",
       "      <th>22989</th>\n",
       "      <td>44</td>\n",
       "      <td>as9059</td>\n",
       "      <td>the squid and the whale</td>\n",
       "    </tr>\n",
       "    <tr>\n",
       "      <th>22990</th>\n",
       "      <td>44</td>\n",
       "      <td>as8885</td>\n",
       "      <td>architect</td>\n",
       "    </tr>\n",
       "    <tr>\n",
       "      <th>22991</th>\n",
       "      <td>44</td>\n",
       "      <td>as8266</td>\n",
       "      <td>showdown at shelby's shack</td>\n",
       "    </tr>\n",
       "    <tr>\n",
       "      <th>22992</th>\n",
       "      <td>44</td>\n",
       "      <td>ns6045</td>\n",
       "      <td>a man called god</td>\n",
       "    </tr>\n",
       "    <tr>\n",
       "      <th>22993</th>\n",
       "      <td>43</td>\n",
       "      <td>as8336</td>\n",
       "      <td>casino.sk</td>\n",
       "    </tr>\n",
       "    <tr>\n",
       "      <th>22994</th>\n",
       "      <td>43</td>\n",
       "      <td>ns8250</td>\n",
       "      <td>the cincinnati kid</td>\n",
       "    </tr>\n",
       "    <tr>\n",
       "      <th>22995</th>\n",
       "      <td>43</td>\n",
       "      <td>ds978</td>\n",
       "      <td>johnny kapahala: back on board</td>\n",
       "    </tr>\n",
       "    <tr>\n",
       "      <th>22996</th>\n",
       "      <td>41</td>\n",
       "      <td>as7617</td>\n",
       "      <td>moral stories for kids</td>\n",
       "    </tr>\n",
       "    <tr>\n",
       "      <th>22997</th>\n",
       "      <td>39</td>\n",
       "      <td>ns3618</td>\n",
       "      <td>theo von: no offense</td>\n",
       "    </tr>\n",
       "  </tbody>\n",
       "</table>\n",
       "</div>"
      ],
      "text/plain": [
       "       valoraciones      id                                title\n",
       "22978            46  as2036                             jeremiah\n",
       "22979            46  as3248   animal babies: first year on earth\n",
       "22980            46  as2128  ilana glazer: the planet is burning\n",
       "22981            46  ns7700                                palio\n",
       "22982            46    as38                      you, me and him\n",
       "22983            46  ns8788            you can’t fight christmas\n",
       "22984            46  as8244                             the omen\n",
       "22985            46  ns7909         russell peters vs. the world\n",
       "22986            45   as167                waiting for lightning\n",
       "22987            45   hs757           the indian in the cupboard\n",
       "22988            44   ds994                              kitbull\n",
       "22989            44  as9059              the squid and the whale\n",
       "22990            44  as8885                            architect\n",
       "22991            44  as8266           showdown at shelby's shack\n",
       "22992            44  ns6045                     a man called god\n",
       "22993            43  as8336                            casino.sk\n",
       "22994            43  ns8250                   the cincinnati kid\n",
       "22995            43   ds978       johnny kapahala: back on board\n",
       "22996            41  as7617               moral stories for kids\n",
       "22997            39  ns3618                 theo von: no offense"
      ]
     },
     "execution_count": 27,
     "metadata": {},
     "output_type": "execute_result"
    }
   ],
   "source": [
    "data_mas_valoradas.tail(20)"
   ]
  },
  {
   "cell_type": "code",
   "execution_count": 28,
   "metadata": {},
   "outputs": [
    {
     "data": {
      "image/png": "[encoded data removed]",
      "text/plain": [
       "<Figure size 432x288 with 1 Axes>"
      ]
     },
     "metadata": {
      "needs_background": "light"
     },
     "output_type": "display_data"
    },
    {
     "data": {
      "image/png": "[encoded data removed]",
      "text/plain": [
       "<Figure size 432x288 with 1 Axes>"
      ]
     },
     "metadata": {
      "needs_background": "light"
     },
     "output_type": "display_data"
    }
   ],
   "source": [
    "fig, ax =plt.subplots()\n",
    "ax.barh(data_mas_valoradas['title'].head(20),data_mas_valoradas['valoraciones'].head(20),label='Películas mas puntuadas')\n",
    "\n",
    "fig, ax =plt.subplots()\n",
    "ax.barh(data_mas_valoradas['title'].tail(20),data_mas_valoradas['valoraciones'].tail(20),label='Películas menos puntuadas')\n",
    "\n",
    "plt.show()"
   ]
  },
  {
   "attachments": {},
   "cell_type": "markdown",
   "metadata": {},
   "source": [
    "pero, ¿cómo están distribuídas esas valoraciones? cuáles el rango de películas \n",
    "mas o menos vistas. en las gŕaficas anteriores no se alcanza a apreciar, hagamos entonces un \n",
    "gráfico de distribución"
   ]
  },
  {
   "cell_type": "code",
   "execution_count": 29,
   "metadata": {},
   "outputs": [
    {
     "data": {
      "text/plain": [
       "<Figure size 1152x576 with 0 Axes>"
      ]
     },
     "metadata": {},
     "output_type": "display_data"
    },
    {
     "data": {
      "image/png": "[encoded data removed]",
      "text/plain": [
       "<Figure size 432x288 with 1 Axes>"
      ]
     },
     "metadata": {
      "needs_background": "light"
     },
     "output_type": "display_data"
    }
   ],
   "source": [
    "plt.figure(figsize = (16,8))\n",
    "#guarda el filtro\n",
    "data_mas_valoradas.hist(log = True, bins = 20)\n",
    "plt.title('Distribución de la cantidad de valoraciones')\n",
    "\n",
    "plt.show()"
   ]
  },
  {
   "attachments": {},
   "cell_type": "markdown",
   "metadata": {},
   "source": [
    "Como podemos observar, las películas valoradas estan en el rango de 55 a 90 valoraciones de diferentes usuarios, por lo que será el universo de peliculas a considerar para nuestro sistema de recomendaciones.\n",
    "\n",
    "Procedemos a armar los filtros para seleccionar los registros"
   ]
  },
  {
   "cell_type": "code",
   "execution_count": 30,
   "metadata": {},
   "outputs": [
    {
     "data": {
      "text/plain": [
       "(22998, 3)"
      ]
     },
     "execution_count": 30,
     "metadata": {},
     "output_type": "execute_result"
    }
   ],
   "source": [
    "data_mas_valoradas.shape"
   ]
  },
  {
   "cell_type": "code",
   "execution_count": 31,
   "metadata": {},
   "outputs": [
    {
     "data": {
      "text/html": [
       "<div>\n",
       "<style scoped>\n",
       "    .dataframe tbody tr th:only-of-type {\n",
       "        vertical-align: middle;\n",
       "    }\n",
       "\n",
       "    .dataframe tbody tr th {\n",
       "        vertical-align: top;\n",
       "    }\n",
       "\n",
       "    .dataframe thead th {\n",
       "        text-align: right;\n",
       "    }\n",
       "</style>\n",
       "<table border=\"1\" class=\"dataframe\">\n",
       "  <thead>\n",
       "    <tr style=\"text-align: right;\">\n",
       "      <th></th>\n",
       "      <th>valoraciones</th>\n",
       "      <th>id</th>\n",
       "      <th>title</th>\n",
       "    </tr>\n",
       "  </thead>\n",
       "  <tbody>\n",
       "    <tr>\n",
       "      <th>890</th>\n",
       "      <td>85</td>\n",
       "      <td>hs553</td>\n",
       "      <td>the mighty ones</td>\n",
       "    </tr>\n",
       "    <tr>\n",
       "      <th>891</th>\n",
       "      <td>85</td>\n",
       "      <td>as5126</td>\n",
       "      <td>corporate prey</td>\n",
       "    </tr>\n",
       "    <tr>\n",
       "      <th>892</th>\n",
       "      <td>85</td>\n",
       "      <td>ds49</td>\n",
       "      <td>space buddies</td>\n",
       "    </tr>\n",
       "    <tr>\n",
       "      <th>893</th>\n",
       "      <td>85</td>\n",
       "      <td>as2067</td>\n",
       "      <td>jackpot (tamil)</td>\n",
       "    </tr>\n",
       "    <tr>\n",
       "      <th>894</th>\n",
       "      <td>85</td>\n",
       "      <td>hs2941</td>\n",
       "      <td>the odd couple</td>\n",
       "    </tr>\n",
       "    <tr>\n",
       "      <th>...</th>\n",
       "      <td>...</td>\n",
       "      <td>...</td>\n",
       "      <td>...</td>\n",
       "    </tr>\n",
       "    <tr>\n",
       "      <th>22372</th>\n",
       "      <td>55</td>\n",
       "      <td>ns6067</td>\n",
       "      <td>a young doctor's notebook and other stories</td>\n",
       "    </tr>\n",
       "    <tr>\n",
       "      <th>22373</th>\n",
       "      <td>55</td>\n",
       "      <td>as9574</td>\n",
       "      <td>the shadow</td>\n",
       "    </tr>\n",
       "    <tr>\n",
       "      <th>22374</th>\n",
       "      <td>55</td>\n",
       "      <td>as3142</td>\n",
       "      <td>bastard's crossing</td>\n",
       "    </tr>\n",
       "    <tr>\n",
       "      <th>22375</th>\n",
       "      <td>55</td>\n",
       "      <td>ns5349</td>\n",
       "      <td>close your eyes before it’s dark</td>\n",
       "    </tr>\n",
       "    <tr>\n",
       "      <th>22376</th>\n",
       "      <td>55</td>\n",
       "      <td>as841</td>\n",
       "      <td>survivor</td>\n",
       "    </tr>\n",
       "  </tbody>\n",
       "</table>\n",
       "<p>21487 rows × 3 columns</p>\n",
       "</div>"
      ],
      "text/plain": [
       "       valoraciones      id                                        title\n",
       "890              85   hs553                              the mighty ones\n",
       "891              85  as5126                               corporate prey\n",
       "892              85    ds49                                space buddies\n",
       "893              85  as2067                              jackpot (tamil)\n",
       "894              85  hs2941                               the odd couple\n",
       "...             ...     ...                                          ...\n",
       "22372            55  ns6067  a young doctor's notebook and other stories\n",
       "22373            55  as9574                                   the shadow\n",
       "22374            55  as3142                           bastard's crossing\n",
       "22375            55  ns5349             close your eyes before it’s dark\n",
       "22376            55   as841                                     survivor\n",
       "\n",
       "[21487 rows x 3 columns]"
      ]
     },
     "execution_count": 31,
     "metadata": {},
     "output_type": "execute_result"
    }
   ],
   "source": [
    "#registros considerados\n",
    "lim_inferior = 55\n",
    "lim_superior = 85\n",
    "data_mas_valoradas[(data_mas_valoradas['valoraciones']>=lim_inferior) & (data_mas_valoradas['valoraciones']<=lim_superior)]"
   ]
  },
  {
   "attachments": {},
   "cell_type": "markdown",
   "metadata": {},
   "source": [
    "Tenemos 21,487 películas que recibieron valoraciones por parte de los usuarios y que serán consideradas para ser evaluadas en el modelo del sistema recomendaciones.\n",
    "\n",
    "Generamos una serie con los id de las películas que quedan fuera del filtro para eliminarlos del universo de valoraciones de los usuarios que será utilizado en el siguinte módulo."
   ]
  },
  {
   "cell_type": "code",
   "execution_count": 32,
   "metadata": {},
   "outputs": [],
   "source": [
    "data_no_considerados = data_mas_valoradas[(data_mas_valoradas['valoraciones']<lim_inferior) | (data_mas_valoradas['valoraciones']>lim_superior)]['id']\n",
    "data_no_considerados.to_csv('./datasets_parciales/moviesId_noconsideradas.csv')"
   ]
  },
  {
   "cell_type": "code",
   "execution_count": 33,
   "metadata": {},
   "outputs": [
    {
     "data": {
      "text/plain": [
       "(1511,)"
      ]
     },
     "execution_count": 33,
     "metadata": {},
     "output_type": "execute_result"
    }
   ],
   "source": [
    "data_no_considerados.shape"
   ]
  },
  {
   "cell_type": "code",
   "execution_count": 34,
   "metadata": {},
   "outputs": [
    {
     "name": "stdout",
     "output_type": "stream",
     "text": [
      "<class 'pandas.core.frame.DataFrame'>\n",
      "Int64Index: 10294674 entries, 0 to 1499999\n",
      "Data columns (total 4 columns):\n",
      " #   Column     Dtype         \n",
      "---  ------     -----         \n",
      " 0   userId     int64         \n",
      " 1   rating     float64       \n",
      " 2   timestamp  datetime64[ns]\n",
      " 3   movieId    object        \n",
      "dtypes: datetime64[ns](1), float64(1), int64(1), object(1)\n",
      "memory usage: 392.7+ MB\n"
     ]
    }
   ],
   "source": [
    "#Crearemos un archivo solo con los registros probales a usar en el siguiente módulo. \n",
    "# a los usuarios hay que quitarle las valoraciones de data_no_considerada\n",
    "data_final = data_users[~data_users['movieId'].isin(data_no_considerados)]\n",
    "data_final.info()"
   ]
  },
  {
   "cell_type": "code",
   "execution_count": 36,
   "metadata": {},
   "outputs": [],
   "source": [
    "#guardamos el archivo final\n",
    "data_final.to_parquet('./datasets_parciales/valoraciones_para_modelo.parquet')"
   ]
  },
  {
   "cell_type": "code",
   "execution_count": 37,
   "metadata": {},
   "outputs": [
    {
     "data": {
      "text/plain": [
       "(10294674, 4)"
      ]
     },
     "execution_count": 37,
     "metadata": {},
     "output_type": "execute_result"
    }
   ],
   "source": [
    "data_final.shape"
   ]
  },
  {
   "attachments": {},
   "cell_type": "markdown",
   "metadata": {},
   "source": [
    "Por mera curiosidad, vamos a sacar una tabla de correlación entre el número de visualizaciones y la calificación.\n",
    "\n",
    "Primero hay que traernos el score promedio, justo como nos trajimos el nombre de la pelicula."
   ]
  },
  {
   "cell_type": "code",
   "execution_count": 38,
   "metadata": {},
   "outputs": [
    {
     "data": {
      "text/html": [
       "<div>\n",
       "<style scoped>\n",
       "    .dataframe tbody tr th:only-of-type {\n",
       "        vertical-align: middle;\n",
       "    }\n",
       "\n",
       "    .dataframe tbody tr th {\n",
       "        vertical-align: top;\n",
       "    }\n",
       "\n",
       "    .dataframe thead th {\n",
       "        text-align: right;\n",
       "    }\n",
       "</style>\n",
       "<table border=\"1\" class=\"dataframe\">\n",
       "  <thead>\n",
       "    <tr style=\"text-align: right;\">\n",
       "      <th></th>\n",
       "      <th>valoraciones</th>\n",
       "      <th>id</th>\n",
       "      <th>title</th>\n",
       "    </tr>\n",
       "  </thead>\n",
       "  <tbody>\n",
       "    <tr>\n",
       "      <th>0</th>\n",
       "      <td>108</td>\n",
       "      <td>ns8168</td>\n",
       "      <td>terminator salvation</td>\n",
       "    </tr>\n",
       "    <tr>\n",
       "      <th>1</th>\n",
       "      <td>107</td>\n",
       "      <td>as5312</td>\n",
       "      <td>vivarium</td>\n",
       "    </tr>\n",
       "    <tr>\n",
       "      <th>2</th>\n",
       "      <td>104</td>\n",
       "      <td>as7644</td>\n",
       "      <td>born kicking</td>\n",
       "    </tr>\n",
       "    <tr>\n",
       "      <th>3</th>\n",
       "      <td>104</td>\n",
       "      <td>as7249</td>\n",
       "      <td>49-o</td>\n",
       "    </tr>\n",
       "    <tr>\n",
       "      <th>4</th>\n",
       "      <td>102</td>\n",
       "      <td>as2553</td>\n",
       "      <td>enchantimals</td>\n",
       "    </tr>\n",
       "  </tbody>\n",
       "</table>\n",
       "</div>"
      ],
      "text/plain": [
       "   valoraciones      id                 title\n",
       "0           108  ns8168  terminator salvation\n",
       "1           107  as5312              vivarium\n",
       "2           104  as7644          born kicking\n",
       "3           104  as7249                  49-o\n",
       "4           102  as2553          enchantimals"
      ]
     },
     "execution_count": 38,
     "metadata": {},
     "output_type": "execute_result"
    }
   ],
   "source": [
    "data_mas_valoradas.head()"
   ]
  },
  {
   "cell_type": "code",
   "execution_count": 39,
   "metadata": {},
   "outputs": [
    {
     "name": "stdout",
     "output_type": "stream",
     "text": [
      "<class 'pandas.core.frame.DataFrame'>\n",
      "RangeIndex: 22998 entries, 0 to 22997\n",
      "Data columns (total 2 columns):\n",
      " #   Column  Non-Null Count  Dtype  \n",
      "---  ------  --------------  -----  \n",
      " 0   id      22998 non-null  object \n",
      " 1   score   22998 non-null  float64\n",
      "dtypes: float64(1), object(1)\n",
      "memory usage: 359.5+ KB\n"
     ]
    }
   ],
   "source": [
    "data_movies[['id','score']].info()"
   ]
  },
  {
   "cell_type": "code",
   "execution_count": 40,
   "metadata": {},
   "outputs": [
    {
     "data": {
      "text/html": [
       "<div>\n",
       "<style scoped>\n",
       "    .dataframe tbody tr th:only-of-type {\n",
       "        vertical-align: middle;\n",
       "    }\n",
       "\n",
       "    .dataframe tbody tr th {\n",
       "        vertical-align: top;\n",
       "    }\n",
       "\n",
       "    .dataframe thead th {\n",
       "        text-align: right;\n",
       "    }\n",
       "</style>\n",
       "<table border=\"1\" class=\"dataframe\">\n",
       "  <thead>\n",
       "    <tr style=\"text-align: right;\">\n",
       "      <th></th>\n",
       "      <th>id</th>\n",
       "      <th>valoraciones</th>\n",
       "      <th>id_x</th>\n",
       "      <th>title</th>\n",
       "      <th>id_y</th>\n",
       "      <th>score</th>\n",
       "    </tr>\n",
       "  </thead>\n",
       "  <tbody>\n",
       "    <tr>\n",
       "      <th>0</th>\n",
       "      <td>ns8168</td>\n",
       "      <td>108</td>\n",
       "      <td>ns8168</td>\n",
       "      <td>terminator salvation</td>\n",
       "      <td>ns8168</td>\n",
       "      <td>3.6</td>\n",
       "    </tr>\n",
       "    <tr>\n",
       "      <th>1</th>\n",
       "      <td>as5312</td>\n",
       "      <td>107</td>\n",
       "      <td>as5312</td>\n",
       "      <td>vivarium</td>\n",
       "      <td>as5312</td>\n",
       "      <td>3.6</td>\n",
       "    </tr>\n",
       "    <tr>\n",
       "      <th>2</th>\n",
       "      <td>as7644</td>\n",
       "      <td>104</td>\n",
       "      <td>as7644</td>\n",
       "      <td>born kicking</td>\n",
       "      <td>as7644</td>\n",
       "      <td>3.7</td>\n",
       "    </tr>\n",
       "    <tr>\n",
       "      <th>3</th>\n",
       "      <td>as7249</td>\n",
       "      <td>104</td>\n",
       "      <td>as7249</td>\n",
       "      <td>49-o</td>\n",
       "      <td>as7249</td>\n",
       "      <td>3.6</td>\n",
       "    </tr>\n",
       "    <tr>\n",
       "      <th>4</th>\n",
       "      <td>as2553</td>\n",
       "      <td>102</td>\n",
       "      <td>as2553</td>\n",
       "      <td>enchantimals</td>\n",
       "      <td>as2553</td>\n",
       "      <td>3.6</td>\n",
       "    </tr>\n",
       "    <tr>\n",
       "      <th>...</th>\n",
       "      <td>...</td>\n",
       "      <td>...</td>\n",
       "      <td>...</td>\n",
       "      <td>...</td>\n",
       "      <td>...</td>\n",
       "      <td>...</td>\n",
       "    </tr>\n",
       "    <tr>\n",
       "      <th>22993</th>\n",
       "      <td>as8336</td>\n",
       "      <td>43</td>\n",
       "      <td>as8336</td>\n",
       "      <td>casino.sk</td>\n",
       "      <td>as8336</td>\n",
       "      <td>3.5</td>\n",
       "    </tr>\n",
       "    <tr>\n",
       "      <th>22994</th>\n",
       "      <td>ns8250</td>\n",
       "      <td>43</td>\n",
       "      <td>ns8250</td>\n",
       "      <td>the cincinnati kid</td>\n",
       "      <td>ns8250</td>\n",
       "      <td>3.5</td>\n",
       "    </tr>\n",
       "    <tr>\n",
       "      <th>22995</th>\n",
       "      <td>ds978</td>\n",
       "      <td>43</td>\n",
       "      <td>ds978</td>\n",
       "      <td>johnny kapahala: back on board</td>\n",
       "      <td>ds978</td>\n",
       "      <td>3.5</td>\n",
       "    </tr>\n",
       "    <tr>\n",
       "      <th>22996</th>\n",
       "      <td>as7617</td>\n",
       "      <td>41</td>\n",
       "      <td>as7617</td>\n",
       "      <td>moral stories for kids</td>\n",
       "      <td>as7617</td>\n",
       "      <td>3.4</td>\n",
       "    </tr>\n",
       "    <tr>\n",
       "      <th>22997</th>\n",
       "      <td>ns3618</td>\n",
       "      <td>39</td>\n",
       "      <td>ns3618</td>\n",
       "      <td>theo von: no offense</td>\n",
       "      <td>ns3618</td>\n",
       "      <td>3.5</td>\n",
       "    </tr>\n",
       "  </tbody>\n",
       "</table>\n",
       "<p>22998 rows × 6 columns</p>\n",
       "</div>"
      ],
      "text/plain": [
       "           id  valoraciones    id_x                           title    id_y  \\\n",
       "0      ns8168           108  ns8168            terminator salvation  ns8168   \n",
       "1      as5312           107  as5312                        vivarium  as5312   \n",
       "2      as7644           104  as7644                    born kicking  as7644   \n",
       "3      as7249           104  as7249                            49-o  as7249   \n",
       "4      as2553           102  as2553                    enchantimals  as2553   \n",
       "...       ...           ...     ...                             ...     ...   \n",
       "22993  as8336            43  as8336                       casino.sk  as8336   \n",
       "22994  ns8250            43  ns8250              the cincinnati kid  ns8250   \n",
       "22995   ds978            43   ds978  johnny kapahala: back on board   ds978   \n",
       "22996  as7617            41  as7617          moral stories for kids  as7617   \n",
       "22997  ns3618            39  ns3618            theo von: no offense  ns3618   \n",
       "\n",
       "       score  \n",
       "0        3.6  \n",
       "1        3.6  \n",
       "2        3.7  \n",
       "3        3.6  \n",
       "4        3.6  \n",
       "...      ...  \n",
       "22993    3.5  \n",
       "22994    3.5  \n",
       "22995    3.5  \n",
       "22996    3.4  \n",
       "22997    3.5  \n",
       "\n",
       "[22998 rows x 6 columns]"
      ]
     },
     "execution_count": 40,
     "metadata": {},
     "output_type": "execute_result"
    }
   ],
   "source": [
    "data_mas_valoradas = pd.merge(left=data_mas_valoradas,right=data_movies[['id','score']], how='left', left_on=data_mas_valoradas.id, right_on='id')\n",
    "data_mas_valoradas"
   ]
  },
  {
   "cell_type": "code",
   "execution_count": 41,
   "metadata": {},
   "outputs": [
    {
     "data": {
      "image/png": "[encoded data removed]",
      "text/plain": [
       "<Figure size 648x504 with 2 Axes>"
      ]
     },
     "metadata": {
      "needs_background": "light"
     },
     "output_type": "display_data"
    }
   ],
   "source": [
    "#observamos si hay correlación entre las variables numéricas de la valoración del usuario y el score promedio de la película\n",
    "corrPeliculas = data_mas_valoradas.corr()\n",
    "#para visualizar mejor haremos un mapa de calor\n",
    "ax = plt.subplots(figsize=(9,7))\n",
    "mask = np.zeros_like(corrPeliculas)\n",
    "mask[np.triu_indices_from(mask)] = True\n",
    "ax = sns.heatmap(corrPeliculas,annot=True,mask = mask)"
   ]
  },
  {
   "attachments": {},
   "cell_type": "markdown",
   "metadata": {},
   "source": [
    "Procedemos a revisar la calidad de las variables tipo cadena, a efecto de determinar si podemos ponderarlas"
   ]
  },
  {
   "cell_type": "code",
   "execution_count": 27,
   "metadata": {},
   "outputs": [
    {
     "data": {
      "text/plain": [
       "drama                           1061\n",
       "comedy                           608\n",
       "documentaries                    573\n",
       "comedy, drama                    421\n",
       "drama, suspense                  399\n",
       "documentary                      375\n",
       "animation, kids                  373\n",
       "kids                             367\n",
       "dramas, international movies     362\n",
       "stand-up comedy                  334\n",
       "Name: listed_in, dtype: int64"
      ]
     },
     "execution_count": 27,
     "metadata": {},
     "output_type": "execute_result"
    }
   ],
   "source": [
    "#iniciamos 'type', 'title', 'director', 'cast', 'country', 'rating', 'listed_in', 'id','date_added_std', 'duration_type'\n",
    "#data_movies['type'].value_counts() --> ok solo dos categorías\n",
    "#data_movies['director'].value_counts() #-->>incolsistencias: lista separada por comas, nulos, números\n",
    "#data_movies['cast'].value_counts().head(20) #-->>incolsistencias: números, lista separada por comas : 16745 categorías\n",
    "#data_movies['country'].value_counts() #-->> es la columna con mas nulos del dataset y tiene 886 categorías\n",
    "#data_movies['rating'].value_counts().head(20)   # -->> inconsistencias. son demasiadas categorías 105, tiene mezclados datos de duration\n",
    "data_movies['listed_in'].value_counts().head(10) #-->> inconsistencias, lista separada por comas,1687 categorías diferentes\n",
    "#data_movies['date_added_std'].value_counts() \n",
    "#data_movies['duration_type'].value_counts() #--> categoria \"season\" en plural y en singular. "
   ]
  },
  {
   "cell_type": "code",
   "execution_count": 49,
   "metadata": {},
   "outputs": [
    {
     "data": {
      "text/plain": [
       "drama                     4728\n",
       "comedy                    3292\n",
       "international movies      2752\n",
       "dramas                    2427\n",
       "action                    2212\n",
       "comedies                  1674\n",
       "suspense                  1501\n",
       "documentaries             1393\n",
       "kids                      1388\n",
       "international tv shows    1351\n",
       "horror                    1179\n",
       "documentary               1167\n",
       "animation                 1089\n",
       "special interest           980\n",
       "romance                    880\n",
       "action & adventure         859\n",
       "family                     837\n",
       "adventure                  815\n",
       "tv dramas                  763\n",
       "independent movies         756\n",
       "Name: genero, dtype: int64"
      ]
     },
     "execution_count": 49,
     "metadata": {},
     "output_type": "execute_result"
    }
   ],
   "source": [
    "#vamos a contar cuantos valores diferentes de género encontramos y ver si podemos unificarlos,\n",
    "#  porque el género si influye en el gusto de la persona\n",
    "data_Genero = pd.DataFrame(data_movies['listed_in'].str.split(',',expand=True).to_numpy().flatten(),columns={'genero'})\n",
    "data_Genero['genero']=data_Genero['genero'].str.strip()\n",
    "#data_Genero['genero'].value_counts()\n",
    "data_Genero['genero'].value_counts().head(20)"
   ]
  },
  {
   "cell_type": "code",
   "execution_count": 50,
   "metadata": {},
   "outputs": [
    {
     "name": "stdout",
     "output_type": "stream",
     "text": [
      "121\n"
     ]
    }
   ],
   "source": [
    "#vamos a contar los valores únicos del gébnero de la película, porque puede ser un buen indicador del gusto del usuario\n",
    "# Usuarios únicos\n",
    "\n",
    "print(len(data_Genero['genero'].unique()))"
   ]
  },
  {
   "cell_type": "code",
   "execution_count": 13,
   "metadata": {},
   "outputs": [
    {
     "data": {
      "image/png": "[encoded data removed]",
      "text/plain": [
       "<Figure size 648x504 with 2 Axes>"
      ]
     },
     "metadata": {
      "needs_background": "light"
     },
     "output_type": "display_data"
    }
   ],
   "source": [
    "#observamos si hay correlación entre las variables numéricas\n",
    "corrPeliculas = data_movies.corr()\n",
    "#para visualizar mejor haremos un mapa de calor\n",
    "ax = plt.subplots(figsize=(9,7))\n",
    "mask = np.zeros_like(corrPeliculas)\n",
    "mask[np.triu_indices_from(mask)] = True\n",
    "ax = sns.heatmap(corrPeliculas,annot=True,mask = mask)"
   ]
  },
  {
   "attachments": {},
   "cell_type": "markdown",
   "metadata": {},
   "source": [
    "Observamos que NO hay una correlación entre las variables numéricas."
   ]
  },
  {
   "cell_type": "code",
   "execution_count": 17,
   "metadata": {},
   "outputs": [
    {
     "name": "stdout",
     "output_type": "stream",
     "text": [
      "14\n"
     ]
    }
   ],
   "source": [
    "cols = data_movies.columns.values\n",
    "col_num = 3\n",
    "row_num = int(len(cols)-1/col_num)\n",
    "print(row_num)"
   ]
  },
  {
   "cell_type": "code",
   "execution_count": 58,
   "metadata": {},
   "outputs": [
    {
     "data": {
      "image/png": "[encoded data removed]",
      "text/plain": [
       "<Figure size 864x2520 with 3 Axes>"
      ]
     },
     "metadata": {},
     "output_type": "display_data"
    }
   ],
   "source": [
    "#Vamos por los valores atípicos de las variables numéricas\n",
    "\n",
    "plt.figure(figsize=(12,35))\n",
    "\n",
    "plt.subplot(15,3,1)\n",
    "sns.boxplot(y=data_movies['release_year'],color='blue',orient='v')\n",
    "plt.tight_layout()\n",
    "\n",
    "plt.subplot(15,3,2)\n",
    "sns.boxplot(y=data_movies['duration_int'],color='green',orient='v')\n",
    "plt.tight_layout()\n",
    "\n",
    "plt.subplot(15,3,3)\n",
    "sns.boxplot(y=data_movies['score'],color='red',orient='v')\n",
    "plt.tight_layout()\n"
   ]
  },
  {
   "attachments": {},
   "cell_type": "markdown",
   "metadata": {},
   "source": [
    "Podemos observar que se encuentran datos atípicos en las categorías de  año de publicación (release_year) y duración (duration_int), no así en el score que tiene una distribución muy corta. por lo que podemos asumir que en las dos primeras categorías los datos no tienen una distribución normal."
   ]
  },
  {
   "cell_type": "code",
   "execution_count": 3,
   "metadata": {},
   "outputs": [
    {
     "data": {
      "text/plain": [
       "<AxesSubplot:xlabel='score', ylabel='Count'>"
      ]
     },
     "execution_count": 3,
     "metadata": {},
     "output_type": "execute_result"
    },
    {
     "data": {
      "image/png": "[encoded data removed]",
      "text/plain": [
       "<Figure size 864x2520 with 3 Axes>"
      ]
     },
     "metadata": {
      "needs_background": "light"
     },
     "output_type": "display_data"
    }
   ],
   "source": [
    "plt.figure(figsize=(12,35))\n",
    "\n",
    "plt.subplot(15,3,1)\n",
    "sns.histplot(data_movies['release_year'],kde=True)\n",
    "\n",
    "plt.subplot(15,3,2)\n",
    "sns.histplot(data_movies['duration_int'],kde=True)\n",
    "\n",
    "plt.subplot(15,3,3)\n",
    "sns.histplot(data_movies['score'],kde=True)\n",
    "\n"
   ]
  },
  {
   "cell_type": "code",
   "execution_count": 15,
   "metadata": {},
   "outputs": [],
   "source": [
    "#lee el archivo de títulos\n",
    "data_ratings = pd.read_csv('./MLOpsReviews/ratings/ratings_final.csv')"
   ]
  },
  {
   "cell_type": "code",
   "execution_count": 30,
   "metadata": {},
   "outputs": [
    {
     "name": "stdout",
     "output_type": "stream",
     "text": [
      "<class 'pandas.core.frame.DataFrame'>\n",
      "RangeIndex: 11024289 entries, 0 to 11024288\n",
      "Data columns (total 5 columns):\n",
      " #   Column      Dtype  \n",
      "---  ------      -----  \n",
      " 0   Unnamed: 0  int64  \n",
      " 1   userId      int64  \n",
      " 2   rating      float64\n",
      " 3   timestamp   object \n",
      " 4   movieId     object \n",
      "dtypes: float64(1), int64(2), object(2)\n",
      "memory usage: 420.5+ MB\n"
     ]
    }
   ],
   "source": [
    "data_ratings.info()"
   ]
  },
  {
   "cell_type": "code",
   "execution_count": 31,
   "metadata": {},
   "outputs": [
    {
     "data": {
      "text/html": [
       "<div>\n",
       "<style scoped>\n",
       "    .dataframe tbody tr th:only-of-type {\n",
       "        vertical-align: middle;\n",
       "    }\n",
       "\n",
       "    .dataframe tbody tr th {\n",
       "        vertical-align: top;\n",
       "    }\n",
       "\n",
       "    .dataframe thead th {\n",
       "        text-align: right;\n",
       "    }\n",
       "</style>\n",
       "<table border=\"1\" class=\"dataframe\">\n",
       "  <thead>\n",
       "    <tr style=\"text-align: right;\">\n",
       "      <th></th>\n",
       "      <th>Unnamed: 0</th>\n",
       "      <th>userId</th>\n",
       "      <th>rating</th>\n",
       "    </tr>\n",
       "  </thead>\n",
       "  <tbody>\n",
       "    <tr>\n",
       "      <th>count</th>\n",
       "      <td>1.102429e+07</td>\n",
       "      <td>1.102429e+07</td>\n",
       "      <td>1.102429e+07</td>\n",
       "    </tr>\n",
       "    <tr>\n",
       "      <th>mean</th>\n",
       "      <td>7.267983e+05</td>\n",
       "      <td>8.997251e+04</td>\n",
       "      <td>3.533455e+00</td>\n",
       "    </tr>\n",
       "    <tr>\n",
       "      <th>std</th>\n",
       "      <td>4.364091e+05</td>\n",
       "      <td>8.686601e+04</td>\n",
       "      <td>1.059692e+00</td>\n",
       "    </tr>\n",
       "    <tr>\n",
       "      <th>min</th>\n",
       "      <td>0.000000e+00</td>\n",
       "      <td>1.000000e+00</td>\n",
       "      <td>5.000000e-01</td>\n",
       "    </tr>\n",
       "    <tr>\n",
       "      <th>25%</th>\n",
       "      <td>3.445090e+05</td>\n",
       "      <td>2.855800e+04</td>\n",
       "      <td>3.000000e+00</td>\n",
       "    </tr>\n",
       "    <tr>\n",
       "      <th>50%</th>\n",
       "      <td>7.125500e+05</td>\n",
       "      <td>5.684300e+04</td>\n",
       "      <td>3.500000e+00</td>\n",
       "    </tr>\n",
       "    <tr>\n",
       "      <th>75%</th>\n",
       "      <td>1.106275e+06</td>\n",
       "      <td>1.168670e+05</td>\n",
       "      <td>4.000000e+00</td>\n",
       "    </tr>\n",
       "    <tr>\n",
       "      <th>max</th>\n",
       "      <td>1.499999e+06</td>\n",
       "      <td>2.708960e+05</td>\n",
       "      <td>5.000000e+00</td>\n",
       "    </tr>\n",
       "  </tbody>\n",
       "</table>\n",
       "</div>"
      ],
      "text/plain": [
       "         Unnamed: 0        userId        rating\n",
       "count  1.102429e+07  1.102429e+07  1.102429e+07\n",
       "mean   7.267983e+05  8.997251e+04  3.533455e+00\n",
       "std    4.364091e+05  8.686601e+04  1.059692e+00\n",
       "min    0.000000e+00  1.000000e+00  5.000000e-01\n",
       "25%    3.445090e+05  2.855800e+04  3.000000e+00\n",
       "50%    7.125500e+05  5.684300e+04  3.500000e+00\n",
       "75%    1.106275e+06  1.168670e+05  4.000000e+00\n",
       "max    1.499999e+06  2.708960e+05  5.000000e+00"
      ]
     },
     "execution_count": 31,
     "metadata": {},
     "output_type": "execute_result"
    }
   ],
   "source": [
    "data_ratings.describe()"
   ]
  },
  {
   "attachments": {},
   "cell_type": "markdown",
   "metadata": {},
   "source": [
    "Concluimos que usaremos las variables de calificaciones proporcionadas por el usuario para hacerle una recomendación en el siguiente módulo."
   ]
  }
 ],
 "metadata": {
  "kernelspec": {
   "display_name": "Python 3",
   "language": "python",
   "name": "python3"
  },
  "language_info": {
   "codemirror_mode": {
    "name": "ipython",
    "version": 3
   },
   "file_extension": ".py",
   "mimetype": "text/x-python",
   "name": "python",
   "nbconvert_exporter": "python",
   "pygments_lexer": "ipython3",
   "version": "3.8.10"
  },
  "orig_nbformat": 4,
  "vscode": {
   "interpreter": {
    "hash": "916dbcbb3f70747c44a77c7bcd40155683ae19c65e1c03b4aa3499c5328201f1"
   }
  }
 },
 "nbformat": 4,
 "nbformat_minor": 2
}
